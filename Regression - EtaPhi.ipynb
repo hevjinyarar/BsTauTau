{
 "cells": [
  {
   "cell_type": "code",
   "execution_count": 87,
   "metadata": {},
   "outputs": [],
   "source": [
    "import numpy as np \n",
    "import matplotlib.pyplot as plt\n",
    "from tqdm import trange\n",
    "import pandas as pd\n",
    "from catboost import CatBoostRegressor\n",
    "from sklearn.model_selection import train_test_split\n",
    "from sklearn.preprocessing import StandardScaler, RobustScaler\n",
    "from sklearn.metrics import mean_squared_error, r2_score, explained_variance_score,  mean_absolute_error\n",
    "import seaborn as sns"
   ]
  },
  {
   "cell_type": "code",
   "execution_count": 86,
   "metadata": {},
   "outputs": [
    {
     "name": "stdout",
     "output_type": "stream",
     "text": [
      "total 74296\r\n",
      "-rw-r--r--  1 hevjinyarar  staff   551942 Oct 13 03:35 flatTuple_part0_treeN_3_recotaus.csv\r\n",
      "-rw-r--r--  1 hevjinyarar  staff    97450 Oct 13 03:35 flatTuple_part0_treeN_3_recomuons.csv\r\n",
      "-rw-r--r--  1 hevjinyarar  staff   155453 Oct 13 03:35 flatTuple_part0_treeN_3_gentaus.csv\r\n",
      "-rw-r--r--  1 hevjinyarar  staff    57147 Oct 13 03:35 flatTuple_part0_treeN_3_genmuons.csv\r\n",
      "-rw-r--r--  1 hevjinyarar  staff   119464 Oct 13 03:35 flatTuple_part0_treeN_3_gentauneutrinos.csv\r\n",
      "-rw-r--r--  1 hevjinyarar  staff    59733 Oct 13 03:35 flatTuple_part0_treeN_3_genmuonneutrinos.csv\r\n",
      "-rw-r--r--  1 hevjinyarar  staff    94933 Oct 13 03:36 flatTuple_part0_treeN_3_hists.png\r\n",
      "-rw-r--r--  1 hevjinyarar  staff  1812374 Oct 13 03:38 flatTuple_part0_treeN_3_pairgrid.png\r\n",
      "-rw-r--r--  1 hevjinyarar  staff   437500 Oct 13 03:41 flatTuple_part0_treeN_2_recotaus.csv\r\n",
      "-rw-r--r--  1 hevjinyarar  staff    77182 Oct 13 03:41 flatTuple_part0_treeN_2_recomuons.csv\r\n",
      "-rw-r--r--  1 hevjinyarar  staff   122954 Oct 13 03:41 flatTuple_part0_treeN_2_gentaus.csv\r\n",
      "-rw-r--r--  1 hevjinyarar  staff    45159 Oct 13 03:41 flatTuple_part0_treeN_2_genmuons.csv\r\n",
      "-rw-r--r--  1 hevjinyarar  staff    94370 Oct 13 03:41 flatTuple_part0_treeN_2_gentauneutrinos.csv\r\n",
      "-rw-r--r--  1 hevjinyarar  staff    47219 Oct 13 03:41 flatTuple_part0_treeN_2_genmuonneutrinos.csv\r\n",
      "-rw-r--r--  1 hevjinyarar  staff   537428 Oct 13 03:44 flatTuple_part1_treeN_3_recotaus.csv\r\n",
      "-rw-r--r--  1 hevjinyarar  staff    94786 Oct 13 03:44 flatTuple_part1_treeN_3_recomuons.csv\r\n",
      "-rw-r--r--  1 hevjinyarar  staff   151578 Oct 13 03:44 flatTuple_part1_treeN_3_gentaus.csv\r\n",
      "-rw-r--r--  1 hevjinyarar  staff    55692 Oct 13 03:44 flatTuple_part1_treeN_3_genmuons.csv\r\n",
      "-rw-r--r--  1 hevjinyarar  staff   116351 Oct 13 03:44 flatTuple_part1_treeN_3_gentauneutrinos.csv\r\n",
      "-rw-r--r--  1 hevjinyarar  staff    58286 Oct 13 03:44 flatTuple_part1_treeN_3_genmuonneutrinos.csv\r\n",
      "-rw-r--r--  1 hevjinyarar  staff   412040 Oct 13 03:47 flatTuple_part1_treeN_2_recotaus.csv\r\n",
      "-rw-r--r--  1 hevjinyarar  staff    72557 Oct 13 03:47 flatTuple_part1_treeN_2_recomuons.csv\r\n",
      "-rw-r--r--  1 hevjinyarar  staff   116017 Oct 13 03:47 flatTuple_part1_treeN_2_gentaus.csv\r\n",
      "-rw-r--r--  1 hevjinyarar  staff    42601 Oct 13 03:47 flatTuple_part1_treeN_2_genmuons.csv\r\n",
      "-rw-r--r--  1 hevjinyarar  staff    88956 Oct 13 03:47 flatTuple_part1_treeN_2_gentauneutrinos.csv\r\n",
      "-rw-r--r--  1 hevjinyarar  staff    44566 Oct 13 03:47 flatTuple_part1_treeN_2_genmuonneutrinos.csv\r\n",
      "-rw-r--r--  1 hevjinyarar  staff   526558 Oct 13 03:53 flatTuple_part2_treeN_3_recotaus.csv\r\n",
      "-rw-r--r--  1 hevjinyarar  staff    92938 Oct 13 03:53 flatTuple_part2_treeN_3_recomuons.csv\r\n",
      "-rw-r--r--  1 hevjinyarar  staff   148223 Oct 13 03:53 flatTuple_part2_treeN_3_gentaus.csv\r\n",
      "-rw-r--r--  1 hevjinyarar  staff    54468 Oct 13 03:53 flatTuple_part2_treeN_3_genmuons.csv\r\n",
      "-rw-r--r--  1 hevjinyarar  staff   113888 Oct 13 03:53 flatTuple_part2_treeN_3_gentauneutrinos.csv\r\n",
      "-rw-r--r--  1 hevjinyarar  staff    56936 Oct 13 03:53 flatTuple_part2_treeN_3_genmuonneutrinos.csv\r\n",
      "-rw-r--r--  1 hevjinyarar  staff   390282 Oct 13 03:55 flatTuple_part2_treeN_2_recotaus.csv\r\n",
      "-rw-r--r--  1 hevjinyarar  staff    68759 Oct 13 03:55 flatTuple_part2_treeN_2_recomuons.csv\r\n",
      "-rw-r--r--  1 hevjinyarar  staff   109481 Oct 13 03:55 flatTuple_part2_treeN_2_gentaus.csv\r\n",
      "-rw-r--r--  1 hevjinyarar  staff    40192 Oct 13 03:55 flatTuple_part2_treeN_2_genmuons.csv\r\n",
      "-rw-r--r--  1 hevjinyarar  staff    83997 Oct 13 03:55 flatTuple_part2_treeN_2_gentauneutrinos.csv\r\n",
      "-rw-r--r--  1 hevjinyarar  staff    42075 Oct 13 03:55 flatTuple_part2_treeN_2_genmuonneutrinos.csv\r\n",
      "-rw-r--r--  1 hevjinyarar  staff   548823 Oct 13 04:00 flatTuple_part3_treeN_3_recotaus.csv\r\n",
      "-rw-r--r--  1 hevjinyarar  staff    96805 Oct 13 04:00 flatTuple_part3_treeN_3_recomuons.csv\r\n",
      "-rw-r--r--  1 hevjinyarar  staff   154660 Oct 13 04:00 flatTuple_part3_treeN_3_gentaus.csv\r\n",
      "-rw-r--r--  1 hevjinyarar  staff    56833 Oct 13 04:00 flatTuple_part3_treeN_3_genmuons.csv\r\n",
      "-rw-r--r--  1 hevjinyarar  staff   118274 Oct 13 04:00 flatTuple_part3_treeN_3_gentauneutrinos.csv\r\n",
      "-rw-r--r--  1 hevjinyarar  staff    59436 Oct 13 04:00 flatTuple_part3_treeN_3_genmuonneutrinos.csv\r\n",
      "-rw-r--r--  1 hevjinyarar  staff   423203 Oct 13 04:05 flatTuple_part3_treeN_2_recotaus.csv\r\n",
      "-rw-r--r--  1 hevjinyarar  staff    74586 Oct 13 04:05 flatTuple_part3_treeN_2_recomuons.csv\r\n",
      "-rw-r--r--  1 hevjinyarar  staff   119065 Oct 13 04:05 flatTuple_part3_treeN_2_gentaus.csv\r\n",
      "-rw-r--r--  1 hevjinyarar  staff    43716 Oct 13 04:05 flatTuple_part3_treeN_2_genmuons.csv\r\n",
      "-rw-r--r--  1 hevjinyarar  staff    90988 Oct 13 04:05 flatTuple_part3_treeN_2_gentauneutrinos.csv\r\n",
      "-rw-r--r--  1 hevjinyarar  staff    45722 Oct 13 04:05 flatTuple_part3_treeN_2_genmuonneutrinos.csv\r\n",
      "-rw-r--r--  1 hevjinyarar  staff   534707 Oct 13 04:10 flatTuple_part4_treeN_3_recotaus.csv\r\n",
      "-rw-r--r--  1 hevjinyarar  staff    94514 Oct 13 04:10 flatTuple_part4_treeN_3_recomuons.csv\r\n",
      "-rw-r--r--  1 hevjinyarar  staff   150720 Oct 13 04:10 flatTuple_part4_treeN_3_gentaus.csv\r\n",
      "-rw-r--r--  1 hevjinyarar  staff    55330 Oct 13 04:10 flatTuple_part4_treeN_3_genmuons.csv\r\n",
      "-rw-r--r--  1 hevjinyarar  staff   115616 Oct 13 04:10 flatTuple_part4_treeN_3_gentauneutrinos.csv\r\n",
      "-rw-r--r--  1 hevjinyarar  staff    57901 Oct 13 04:10 flatTuple_part4_treeN_3_genmuonneutrinos.csv\r\n",
      "-rw-r--r--  1 hevjinyarar  staff   393110 Oct 13 04:22 flatTuple_part4_treeN_2_recotaus.csv\r\n",
      "-rw-r--r--  1 hevjinyarar  staff    69353 Oct 13 04:22 flatTuple_part4_treeN_2_recomuons.csv\r\n",
      "-rw-r--r--  1 hevjinyarar  staff   110417 Oct 13 04:22 flatTuple_part4_treeN_2_gentaus.csv\r\n",
      "-rw-r--r--  1 hevjinyarar  staff    40538 Oct 13 04:22 flatTuple_part4_treeN_2_genmuons.csv\r\n",
      "-rw-r--r--  1 hevjinyarar  staff    84647 Oct 13 04:22 flatTuple_part4_treeN_2_gentauneutrinos.csv\r\n",
      "-rw-r--r--  1 hevjinyarar  staff    42439 Oct 13 04:22 flatTuple_part4_treeN_2_genmuonneutrinos.csv\r\n",
      "-rw-r--r--  1 hevjinyarar  staff   451699 Oct 13 04:24 flatTuple_part5_treeN_2_recotaus.csv\r\n",
      "-rw-r--r--  1 hevjinyarar  staff    79622 Oct 13 04:24 flatTuple_part5_treeN_2_recomuons.csv\r\n",
      "-rw-r--r--  1 hevjinyarar  staff   126963 Oct 13 04:24 flatTuple_part5_treeN_2_gentaus.csv\r\n",
      "-rw-r--r--  1 hevjinyarar  staff    46632 Oct 13 04:24 flatTuple_part5_treeN_2_genmuons.csv\r\n",
      "-rw-r--r--  1 hevjinyarar  staff    97407 Oct 13 04:24 flatTuple_part5_treeN_2_gentauneutrinos.csv\r\n",
      "-rw-r--r--  1 hevjinyarar  staff    48696 Oct 13 04:24 flatTuple_part5_treeN_2_genmuonneutrinos.csv\r\n",
      "-rw-r--r--  1 hevjinyarar  staff   232865 Oct 13 04:29 flatTuple_part5_treeN_1_recotaus.csv\r\n",
      "-rw-r--r--  1 hevjinyarar  staff    40811 Oct 13 04:29 flatTuple_part5_treeN_1_recomuons.csv\r\n",
      "-rw-r--r--  1 hevjinyarar  staff    64709 Oct 13 04:29 flatTuple_part5_treeN_1_gentaus.csv\r\n",
      "-rw-r--r--  1 hevjinyarar  staff    23710 Oct 13 04:29 flatTuple_part5_treeN_1_genmuons.csv\r\n",
      "-rw-r--r--  1 hevjinyarar  staff    49489 Oct 13 04:29 flatTuple_part5_treeN_1_gentauneutrinos.csv\r\n",
      "-rw-r--r--  1 hevjinyarar  staff    24775 Oct 13 04:29 flatTuple_part5_treeN_1_genmuonneutrinos.csv\r\n",
      "-rw-r--r--  1 hevjinyarar  staff   432872 Oct 13 04:33 flatTuple_part6_treeN_3_recotaus.csv\r\n",
      "-rw-r--r--  1 hevjinyarar  staff    76319 Oct 13 04:33 flatTuple_part6_treeN_3_recomuons.csv\r\n",
      "-rw-r--r--  1 hevjinyarar  staff   121707 Oct 13 04:33 flatTuple_part6_treeN_3_gentaus.csv\r\n",
      "-rw-r--r--  1 hevjinyarar  staff    44737 Oct 13 04:33 flatTuple_part6_treeN_3_genmuons.csv\r\n",
      "-rw-r--r--  1 hevjinyarar  staff    93456 Oct 13 04:33 flatTuple_part6_treeN_3_gentauneutrinos.csv\r\n",
      "-rw-r--r--  1 hevjinyarar  staff    46704 Oct 13 04:33 flatTuple_part6_treeN_3_genmuonneutrinos.csv\r\n",
      "-rw-r--r--  1 hevjinyarar  staff   423248 Oct 13 04:35 flatTuple_part6_treeN_2_recotaus.csv\r\n",
      "-rw-r--r--  1 hevjinyarar  staff    74609 Oct 13 04:35 flatTuple_part6_treeN_2_recomuons.csv\r\n",
      "-rw-r--r--  1 hevjinyarar  staff   118941 Oct 13 04:35 flatTuple_part6_treeN_2_gentaus.csv\r\n",
      "-rw-r--r--  1 hevjinyarar  staff    43725 Oct 13 04:35 flatTuple_part6_treeN_2_genmuons.csv\r\n",
      "-rw-r--r--  1 hevjinyarar  staff    91340 Oct 13 04:35 flatTuple_part6_treeN_2_gentauneutrinos.csv\r\n",
      "-rw-r--r--  1 hevjinyarar  staff    45643 Oct 13 04:35 flatTuple_part6_treeN_2_genmuonneutrinos.csv\r\n",
      "-rw-r--r--  1 hevjinyarar  staff   415293 Oct 13 04:37 flatTuple_part7_treeN_2_recotaus.csv\r\n",
      "-rw-r--r--  1 hevjinyarar  staff    73303 Oct 13 04:37 flatTuple_part7_treeN_2_recomuons.csv\r\n",
      "-rw-r--r--  1 hevjinyarar  staff   116782 Oct 13 04:37 flatTuple_part7_treeN_2_gentaus.csv\r\n",
      "-rw-r--r--  1 hevjinyarar  staff    42883 Oct 13 04:37 flatTuple_part7_treeN_2_genmuons.csv\r\n",
      "-rw-r--r--  1 hevjinyarar  staff    89588 Oct 13 04:37 flatTuple_part7_treeN_2_gentauneutrinos.csv\r\n",
      "-rw-r--r--  1 hevjinyarar  staff    44880 Oct 13 04:37 flatTuple_part7_treeN_2_genmuonneutrinos.csv\r\n",
      "-rw-r--r--  1 hevjinyarar  staff   206492 Oct 13 04:38 flatTuple_part7_treeN_1_recotaus.csv\r\n",
      "-rw-r--r--  1 hevjinyarar  staff    36250 Oct 13 04:38 flatTuple_part7_treeN_1_recomuons.csv\r\n",
      "-rw-r--r--  1 hevjinyarar  staff    57489 Oct 13 04:38 flatTuple_part7_treeN_1_gentaus.csv\r\n",
      "-rw-r--r--  1 hevjinyarar  staff    21057 Oct 13 04:38 flatTuple_part7_treeN_1_genmuons.csv\r\n",
      "-rw-r--r--  1 hevjinyarar  staff    43981 Oct 13 04:38 flatTuple_part7_treeN_1_gentauneutrinos.csv\r\n",
      "-rw-r--r--  1 hevjinyarar  staff    22039 Oct 13 04:38 flatTuple_part7_treeN_1_genmuonneutrinos.csv\r\n",
      "-rw-r--r--  1 hevjinyarar  staff   400989 Oct 13 04:43 flatTuple_part8_treeN_2_recotaus.csv\r\n",
      "-rw-r--r--  1 hevjinyarar  staff    70778 Oct 13 04:43 flatTuple_part8_treeN_2_recomuons.csv\r\n",
      "-rw-r--r--  1 hevjinyarar  staff   112655 Oct 13 04:43 flatTuple_part8_treeN_2_gentaus.csv\r\n",
      "-rw-r--r--  1 hevjinyarar  staff    41415 Oct 13 04:43 flatTuple_part8_treeN_2_genmuons.csv\r\n",
      "-rw-r--r--  1 hevjinyarar  staff    86313 Oct 13 04:43 flatTuple_part8_treeN_2_gentauneutrinos.csv\r\n",
      "-rw-r--r--  1 hevjinyarar  staff    43213 Oct 13 04:43 flatTuple_part8_treeN_2_genmuonneutrinos.csv\r\n",
      "-rw-r--r--  1 hevjinyarar  staff   198464 Oct 13 04:45 flatTuple_part8_treeN_1_recotaus.csv\r\n",
      "-rw-r--r--  1 hevjinyarar  staff    34771 Oct 13 04:45 flatTuple_part8_treeN_1_recomuons.csv\r\n",
      "-rw-r--r--  1 hevjinyarar  staff    55076 Oct 13 04:45 flatTuple_part8_treeN_1_gentaus.csv\r\n",
      "-rw-r--r--  1 hevjinyarar  staff    20168 Oct 13 04:45 flatTuple_part8_treeN_1_genmuons.csv\r\n",
      "-rw-r--r--  1 hevjinyarar  staff    42066 Oct 13 04:45 flatTuple_part8_treeN_1_gentauneutrinos.csv\r\n",
      "-rw-r--r--  1 hevjinyarar  staff    21042 Oct 13 04:45 flatTuple_part8_treeN_1_genmuonneutrinos.csv\r\n",
      "-rw-r--r--  1 hevjinyarar  staff   379376 Oct 13 04:47 flatTuple_part9_treeN_3_recotaus.csv\r\n",
      "-rw-r--r--  1 hevjinyarar  staff    66932 Oct 13 04:47 flatTuple_part9_treeN_3_recomuons.csv\r\n",
      "-rw-r--r--  1 hevjinyarar  staff   106601 Oct 13 04:47 flatTuple_part9_treeN_3_gentaus.csv\r\n",
      "-rw-r--r--  1 hevjinyarar  staff    39144 Oct 13 04:47 flatTuple_part9_treeN_3_genmuons.csv\r\n",
      "-rw-r--r--  1 hevjinyarar  staff    81756 Oct 13 04:47 flatTuple_part9_treeN_3_gentauneutrinos.csv\r\n",
      "-rw-r--r--  1 hevjinyarar  staff    40981 Oct 13 04:47 flatTuple_part9_treeN_3_genmuonneutrinos.csv\r\n",
      "-rw-r--r--  1 hevjinyarar  staff   377442 Oct 13 04:49 flatTuple_part9_treeN_2_recotaus.csv\r\n",
      "-rw-r--r--  1 hevjinyarar  staff    66602 Oct 13 04:49 flatTuple_part9_treeN_2_recomuons.csv\r\n",
      "-rw-r--r--  1 hevjinyarar  staff   106048 Oct 13 04:49 flatTuple_part9_treeN_2_gentaus.csv\r\n",
      "-rw-r--r--  1 hevjinyarar  staff    38943 Oct 13 04:49 flatTuple_part9_treeN_2_genmuons.csv\r\n",
      "-rw-r--r--  1 hevjinyarar  staff    81336 Oct 13 04:49 flatTuple_part9_treeN_2_gentauneutrinos.csv\r\n",
      "-rw-r--r--  1 hevjinyarar  staff    40767 Oct 13 04:49 flatTuple_part9_treeN_2_genmuonneutrinos.csv\r\n",
      "-rw-r--r--  1 hevjinyarar  staff  9984489 Oct 13 05:07 MC_recotaus.csv\r\n",
      "-rw-r--r--  1 hevjinyarar  staff  1756199 Oct 13 05:07 MC_recomuons.csv\r\n",
      "-rw-r--r--  1 hevjinyarar  staff  2716881 Oct 13 05:07 MC_gentaus.csv\r\n",
      "-rw-r--r--  1 hevjinyarar  staff  1044427 Oct 13 05:07 MC_genmuons.csv\r\n",
      "-rw-r--r--  1 hevjinyarar  staff  2250076 Oct 13 05:07 MC_gentauneutrinos.csv\r\n",
      "-rw-r--r--  1 hevjinyarar  staff  1120182 Oct 13 05:07 MC_genmuonneutrinos.csv\r\n"
     ]
    }
   ],
   "source": [
    "ls -ltr MCSamples/csvfiles/"
   ]
  },
  {
   "cell_type": "code",
   "execution_count": 88,
   "metadata": {},
   "outputs": [],
   "source": [
    "data = pd.read_csv(\"MCSamples/csvfiles/MC_recotaus.csv\")\n",
    "gendata = pd.read_csv(\"MCSamples/csvfiles/MC_gentaus.csv\")\n",
    "dataMuons = pd.read_csv(\"MCSamples/csvfiles/MC_recomuons.csv\")\n",
    "genMuons = pd.read_csv(\"MCSamples/csvfiles/MC_genmuons.csv\")\n",
    "gendatamuonNeutrinos = pd.read_csv(\"MCSamples/csvfiles/MC_genmuonneutrinos.csv\")\n",
    "gendatatauNeutrinos = pd.read_csv(\"MCSamples/csvfiles/MC_gentauneutrinos.csv\")\n"
   ]
  },
  {
   "cell_type": "code",
   "execution_count": 89,
   "metadata": {},
   "outputs": [
    {
     "data": {
      "text/html": [
       "<div>\n",
       "<style scoped>\n",
       "    .dataframe tbody tr th:only-of-type {\n",
       "        vertical-align: middle;\n",
       "    }\n",
       "\n",
       "    .dataframe tbody tr th {\n",
       "        vertical-align: top;\n",
       "    }\n",
       "\n",
       "    .dataframe thead th {\n",
       "        text-align: right;\n",
       "    }\n",
       "</style>\n",
       "<table border=\"1\" class=\"dataframe\">\n",
       "  <thead>\n",
       "    <tr style=\"text-align: right;\">\n",
       "      <th></th>\n",
       "      <th>Unnamed: 0</th>\n",
       "      <th>entry</th>\n",
       "      <th>subentry</th>\n",
       "      <th>label_tau_px</th>\n",
       "      <th>label_tau_py</th>\n",
       "      <th>label_tau_pz</th>\n",
       "      <th>label_tau_abs</th>\n",
       "      <th>tau_px</th>\n",
       "      <th>tau_py</th>\n",
       "      <th>tau_pz</th>\n",
       "      <th>...</th>\n",
       "      <th>BsTauTau_tau_fl3d</th>\n",
       "      <th>BsTauTau_tau_fls3d</th>\n",
       "      <th>BsTauTau_tau_alpha</th>\n",
       "      <th>BsTauTau_tau_vprob</th>\n",
       "      <th>eventID</th>\n",
       "      <th>BsTauTau_gentaupt</th>\n",
       "      <th>label_pt</th>\n",
       "      <th>label_eta</th>\n",
       "      <th>label_phi</th>\n",
       "      <th>file_number</th>\n",
       "    </tr>\n",
       "  </thead>\n",
       "  <tbody>\n",
       "    <tr>\n",
       "      <th>0</th>\n",
       "      <td>0</td>\n",
       "      <td>11</td>\n",
       "      <td>0</td>\n",
       "      <td>-11.788038</td>\n",
       "      <td>-6.555828</td>\n",
       "      <td>16.104155</td>\n",
       "      <td>21.006678</td>\n",
       "      <td>-8.209216</td>\n",
       "      <td>-4.809673</td>\n",
       "      <td>11.551371</td>\n",
       "      <td>...</td>\n",
       "      <td>0.421534</td>\n",
       "      <td>12.996973</td>\n",
       "      <td>0.996980</td>\n",
       "      <td>0.970918</td>\n",
       "      <td>11</td>\n",
       "      <td>9.554754</td>\n",
       "      <td>13.488393</td>\n",
       "      <td>1.012079</td>\n",
       "      <td>-2.634046</td>\n",
       "      <td>0.0</td>\n",
       "    </tr>\n",
       "    <tr>\n",
       "      <th>1</th>\n",
       "      <td>1</td>\n",
       "      <td>60</td>\n",
       "      <td>0</td>\n",
       "      <td>0.162037</td>\n",
       "      <td>3.963451</td>\n",
       "      <td>-1.262907</td>\n",
       "      <td>4.162948</td>\n",
       "      <td>-0.321221</td>\n",
       "      <td>2.892424</td>\n",
       "      <td>-0.957565</td>\n",
       "      <td>...</td>\n",
       "      <td>0.083364</td>\n",
       "      <td>7.530805</td>\n",
       "      <td>0.985640</td>\n",
       "      <td>0.666410</td>\n",
       "      <td>60</td>\n",
       "      <td>2.924369</td>\n",
       "      <td>3.966762</td>\n",
       "      <td>-0.313225</td>\n",
       "      <td>1.529936</td>\n",
       "      <td>0.0</td>\n",
       "    </tr>\n",
       "    <tr>\n",
       "      <th>2</th>\n",
       "      <td>2</td>\n",
       "      <td>66</td>\n",
       "      <td>0</td>\n",
       "      <td>4.472068</td>\n",
       "      <td>-8.427861</td>\n",
       "      <td>-4.548322</td>\n",
       "      <td>10.569555</td>\n",
       "      <td>2.375849</td>\n",
       "      <td>-4.293860</td>\n",
       "      <td>-2.092270</td>\n",
       "      <td>...</td>\n",
       "      <td>0.101656</td>\n",
       "      <td>8.105702</td>\n",
       "      <td>0.979610</td>\n",
       "      <td>0.292443</td>\n",
       "      <td>66</td>\n",
       "      <td>4.921455</td>\n",
       "      <td>9.540873</td>\n",
       "      <td>-0.460293</td>\n",
       "      <td>-1.082947</td>\n",
       "      <td>0.0</td>\n",
       "    </tr>\n",
       "    <tr>\n",
       "      <th>3</th>\n",
       "      <td>3</td>\n",
       "      <td>135</td>\n",
       "      <td>0</td>\n",
       "      <td>4.243146</td>\n",
       "      <td>-3.215523</td>\n",
       "      <td>-7.536881</td>\n",
       "      <td>9.227592</td>\n",
       "      <td>3.908763</td>\n",
       "      <td>-2.411756</td>\n",
       "      <td>-6.459907</td>\n",
       "      <td>...</td>\n",
       "      <td>0.402799</td>\n",
       "      <td>18.092627</td>\n",
       "      <td>0.962620</td>\n",
       "      <td>0.737935</td>\n",
       "      <td>135</td>\n",
       "      <td>4.596218</td>\n",
       "      <td>5.323897</td>\n",
       "      <td>-1.147056</td>\n",
       "      <td>-0.648484</td>\n",
       "      <td>0.0</td>\n",
       "    </tr>\n",
       "    <tr>\n",
       "      <th>4</th>\n",
       "      <td>4</td>\n",
       "      <td>147</td>\n",
       "      <td>0</td>\n",
       "      <td>-3.557540</td>\n",
       "      <td>-12.237202</td>\n",
       "      <td>-6.320212</td>\n",
       "      <td>14.224987</td>\n",
       "      <td>-1.856974</td>\n",
       "      <td>-7.924614</td>\n",
       "      <td>-4.175698</td>\n",
       "      <td>...</td>\n",
       "      <td>0.396051</td>\n",
       "      <td>22.607199</td>\n",
       "      <td>0.996799</td>\n",
       "      <td>0.921039</td>\n",
       "      <td>147</td>\n",
       "      <td>8.131434</td>\n",
       "      <td>12.743830</td>\n",
       "      <td>-0.477580</td>\n",
       "      <td>-1.853713</td>\n",
       "      <td>0.0</td>\n",
       "    </tr>\n",
       "    <tr>\n",
       "      <th>...</th>\n",
       "      <td>...</td>\n",
       "      <td>...</td>\n",
       "      <td>...</td>\n",
       "      <td>...</td>\n",
       "      <td>...</td>\n",
       "      <td>...</td>\n",
       "      <td>...</td>\n",
       "      <td>...</td>\n",
       "      <td>...</td>\n",
       "      <td>...</td>\n",
       "      <td>...</td>\n",
       "      <td>...</td>\n",
       "      <td>...</td>\n",
       "      <td>...</td>\n",
       "      <td>...</td>\n",
       "      <td>...</td>\n",
       "      <td>...</td>\n",
       "      <td>...</td>\n",
       "      <td>...</td>\n",
       "      <td>...</td>\n",
       "      <td>...</td>\n",
       "    </tr>\n",
       "    <tr>\n",
       "      <th>12832</th>\n",
       "      <td>583</td>\n",
       "      <td>22486</td>\n",
       "      <td>0</td>\n",
       "      <td>1.324028</td>\n",
       "      <td>-29.114489</td>\n",
       "      <td>33.670480</td>\n",
       "      <td>44.532097</td>\n",
       "      <td>0.248660</td>\n",
       "      <td>-9.313651</td>\n",
       "      <td>10.288762</td>\n",
       "      <td>...</td>\n",
       "      <td>0.431222</td>\n",
       "      <td>9.162552</td>\n",
       "      <td>0.977615</td>\n",
       "      <td>0.783822</td>\n",
       "      <td>22486</td>\n",
       "      <td>9.373325</td>\n",
       "      <td>29.144579</td>\n",
       "      <td>0.987034</td>\n",
       "      <td>-1.525351</td>\n",
       "      <td>19.0</td>\n",
       "    </tr>\n",
       "    <tr>\n",
       "      <th>12833</th>\n",
       "      <td>584</td>\n",
       "      <td>22608</td>\n",
       "      <td>0</td>\n",
       "      <td>-0.131475</td>\n",
       "      <td>4.870125</td>\n",
       "      <td>5.001573</td>\n",
       "      <td>6.982201</td>\n",
       "      <td>-0.403766</td>\n",
       "      <td>3.883252</td>\n",
       "      <td>4.518555</td>\n",
       "      <td>...</td>\n",
       "      <td>0.206911</td>\n",
       "      <td>11.906222</td>\n",
       "      <td>0.967955</td>\n",
       "      <td>0.578903</td>\n",
       "      <td>22608</td>\n",
       "      <td>3.831998</td>\n",
       "      <td>4.871899</td>\n",
       "      <td>0.900070</td>\n",
       "      <td>1.597786</td>\n",
       "      <td>19.0</td>\n",
       "    </tr>\n",
       "    <tr>\n",
       "      <th>12834</th>\n",
       "      <td>585</td>\n",
       "      <td>22709</td>\n",
       "      <td>0</td>\n",
       "      <td>3.984467</td>\n",
       "      <td>5.342852</td>\n",
       "      <td>-6.626698</td>\n",
       "      <td>9.398679</td>\n",
       "      <td>3.180289</td>\n",
       "      <td>3.713932</td>\n",
       "      <td>-5.281202</td>\n",
       "      <td>...</td>\n",
       "      <td>0.273745</td>\n",
       "      <td>7.742959</td>\n",
       "      <td>0.990314</td>\n",
       "      <td>0.606934</td>\n",
       "      <td>22709</td>\n",
       "      <td>4.911545</td>\n",
       "      <td>6.664987</td>\n",
       "      <td>-0.877306</td>\n",
       "      <td>0.930017</td>\n",
       "      <td>19.0</td>\n",
       "    </tr>\n",
       "    <tr>\n",
       "      <th>12835</th>\n",
       "      <td>586</td>\n",
       "      <td>22769</td>\n",
       "      <td>0</td>\n",
       "      <td>5.904522</td>\n",
       "      <td>-11.321654</td>\n",
       "      <td>-9.672960</td>\n",
       "      <td>16.019032</td>\n",
       "      <td>4.225609</td>\n",
       "      <td>-8.936357</td>\n",
       "      <td>-7.700234</td>\n",
       "      <td>...</td>\n",
       "      <td>0.207682</td>\n",
       "      <td>10.363133</td>\n",
       "      <td>0.997222</td>\n",
       "      <td>0.408060</td>\n",
       "      <td>22769</td>\n",
       "      <td>9.887549</td>\n",
       "      <td>12.768838</td>\n",
       "      <td>-0.699172</td>\n",
       "      <td>-1.090078</td>\n",
       "      <td>19.0</td>\n",
       "    </tr>\n",
       "    <tr>\n",
       "      <th>12836</th>\n",
       "      <td>587</td>\n",
       "      <td>22770</td>\n",
       "      <td>0</td>\n",
       "      <td>4.626422</td>\n",
       "      <td>-4.081650</td>\n",
       "      <td>-4.118954</td>\n",
       "      <td>7.418183</td>\n",
       "      <td>3.837178</td>\n",
       "      <td>-3.652371</td>\n",
       "      <td>-2.919310</td>\n",
       "      <td>...</td>\n",
       "      <td>0.691992</td>\n",
       "      <td>27.649937</td>\n",
       "      <td>0.969165</td>\n",
       "      <td>0.914540</td>\n",
       "      <td>22770</td>\n",
       "      <td>5.313298</td>\n",
       "      <td>6.169574</td>\n",
       "      <td>-0.625941</td>\n",
       "      <td>-0.722920</td>\n",
       "      <td>19.0</td>\n",
       "    </tr>\n",
       "  </tbody>\n",
       "</table>\n",
       "<p>12837 rows × 68 columns</p>\n",
       "</div>"
      ],
      "text/plain": [
       "       Unnamed: 0  entry  subentry  label_tau_px  label_tau_py  label_tau_pz  \\\n",
       "0               0     11         0    -11.788038     -6.555828     16.104155   \n",
       "1               1     60         0      0.162037      3.963451     -1.262907   \n",
       "2               2     66         0      4.472068     -8.427861     -4.548322   \n",
       "3               3    135         0      4.243146     -3.215523     -7.536881   \n",
       "4               4    147         0     -3.557540    -12.237202     -6.320212   \n",
       "...           ...    ...       ...           ...           ...           ...   \n",
       "12832         583  22486         0      1.324028    -29.114489     33.670480   \n",
       "12833         584  22608         0     -0.131475      4.870125      5.001573   \n",
       "12834         585  22709         0      3.984467      5.342852     -6.626698   \n",
       "12835         586  22769         0      5.904522    -11.321654     -9.672960   \n",
       "12836         587  22770         0      4.626422     -4.081650     -4.118954   \n",
       "\n",
       "       label_tau_abs    tau_px    tau_py     tau_pz  ...  BsTauTau_tau_fl3d  \\\n",
       "0          21.006678 -8.209216 -4.809673  11.551371  ...           0.421534   \n",
       "1           4.162948 -0.321221  2.892424  -0.957565  ...           0.083364   \n",
       "2          10.569555  2.375849 -4.293860  -2.092270  ...           0.101656   \n",
       "3           9.227592  3.908763 -2.411756  -6.459907  ...           0.402799   \n",
       "4          14.224987 -1.856974 -7.924614  -4.175698  ...           0.396051   \n",
       "...              ...       ...       ...        ...  ...                ...   \n",
       "12832      44.532097  0.248660 -9.313651  10.288762  ...           0.431222   \n",
       "12833       6.982201 -0.403766  3.883252   4.518555  ...           0.206911   \n",
       "12834       9.398679  3.180289  3.713932  -5.281202  ...           0.273745   \n",
       "12835      16.019032  4.225609 -8.936357  -7.700234  ...           0.207682   \n",
       "12836       7.418183  3.837178 -3.652371  -2.919310  ...           0.691992   \n",
       "\n",
       "       BsTauTau_tau_fls3d  BsTauTau_tau_alpha  BsTauTau_tau_vprob  eventID  \\\n",
       "0               12.996973            0.996980            0.970918       11   \n",
       "1                7.530805            0.985640            0.666410       60   \n",
       "2                8.105702            0.979610            0.292443       66   \n",
       "3               18.092627            0.962620            0.737935      135   \n",
       "4               22.607199            0.996799            0.921039      147   \n",
       "...                   ...                 ...                 ...      ...   \n",
       "12832            9.162552            0.977615            0.783822    22486   \n",
       "12833           11.906222            0.967955            0.578903    22608   \n",
       "12834            7.742959            0.990314            0.606934    22709   \n",
       "12835           10.363133            0.997222            0.408060    22769   \n",
       "12836           27.649937            0.969165            0.914540    22770   \n",
       "\n",
       "       BsTauTau_gentaupt   label_pt  label_eta  label_phi  file_number  \n",
       "0               9.554754  13.488393   1.012079  -2.634046          0.0  \n",
       "1               2.924369   3.966762  -0.313225   1.529936          0.0  \n",
       "2               4.921455   9.540873  -0.460293  -1.082947          0.0  \n",
       "3               4.596218   5.323897  -1.147056  -0.648484          0.0  \n",
       "4               8.131434  12.743830  -0.477580  -1.853713          0.0  \n",
       "...                  ...        ...        ...        ...          ...  \n",
       "12832           9.373325  29.144579   0.987034  -1.525351         19.0  \n",
       "12833           3.831998   4.871899   0.900070   1.597786         19.0  \n",
       "12834           4.911545   6.664987  -0.877306   0.930017         19.0  \n",
       "12835           9.887549  12.768838  -0.699172  -1.090078         19.0  \n",
       "12836           5.313298   6.169574  -0.625941  -0.722920         19.0  \n",
       "\n",
       "[12837 rows x 68 columns]"
      ]
     },
     "execution_count": 89,
     "metadata": {},
     "output_type": "execute_result"
    }
   ],
   "source": [
    "data"
   ]
  },
  {
   "cell_type": "code",
   "execution_count": 90,
   "metadata": {},
   "outputs": [
    {
     "data": {
      "text/plain": [
       "Text(0.5, 1.0, '3-prong decaying tau $\\\\phi$')"
      ]
     },
     "execution_count": 90,
     "metadata": {},
     "output_type": "execute_result"
    },
    {
     "data": {
      "image/png": "[encoded data removed]",
      "text/plain": [
       "<Figure size 864x252 with 3 Axes>"
      ]
     },
     "metadata": {
      "needs_background": "light"
     },
     "output_type": "display_data"
    }
   ],
   "source": [
    "plt.rcParams['figure.figsize'] = [12, 3.5]\n",
    "fig, (ax0,ax1,ax2) = plt.subplots(1,3)\n",
    "ax0.plot(data.BsTauTau_tau_pt.values, gendata[gendata.muondecay == False].genParticle_pt.values, '.', markersize = 3)\n",
    "ax0.plot([0,100], [0,100])\n",
    "ax0.grid()\n",
    "ax0.set_xlabel(\"reconstructed pt [GeV]\")\n",
    "ax0.set_ylabel(\"gen pt [GeV]\")\n",
    "ax0.set_title(\"3-prong decaying tau pt\")\n",
    "\n",
    "ax1.plot(data.BsTauTau_tau_eta.values, gendata[gendata.muondecay == False].genParticle_eta.values, '.', markersize = 3)\n",
    "#ax1.plot([0,100], [0,100])\n",
    "ax1.grid()\n",
    "ax1.set_xlabel(\"reconstructed $\\eta$ \")\n",
    "ax1.set_ylabel(\"gen $\\eta$ \")\n",
    "ax1.set_title(\"3-prong decaying tau $\\eta$\")\n",
    "\n",
    "ax2.plot(data.BsTauTau_tau_phi.values, gendata[gendata.muondecay == False].genParticle_phi.values, '.', markersize = 3)\n",
    "#ax1.plot([0,100], [0,100])\n",
    "ax2.grid()\n",
    "ax2.set_xlabel(\"reconstructed $\\phi$ \")\n",
    "ax2.set_ylabel(\"gen $\\phi$ \")\n",
    "ax2.set_title(\"3-prong decaying tau $\\phi$\")"
   ]
  },
  {
   "cell_type": "code",
   "execution_count": 92,
   "metadata": {},
   "outputs": [],
   "source": [
    "#data = pd.read_csv(\"signalrecotaus_multiple.csv\")\n",
    "#gendata = pd.read_csv(\"signalgentaus_multiple.csv\")\n",
    "#data = pd.read_csv(\"signalrecotaus_15_07.csv\")\n",
    "#gendata = pd.read_csv(\"signalgentaus_15_07.csv\")\n",
    "\n",
    "#data = pd.read_csv(\"signalrecotaus-part9_part5.csv\")\n",
    "#gendata = pd.read_csv(\"signalgentaus-part9_part5.csv\")\n",
    "#data = data.drop(columns = ['BsTauTau_tau_dr1', 'BsTauTau_tau_dr2', 'BsTauTau_tau_dr3','BsTauTau_tau_ptres1', 'BsTauTau_tau_ptres2', 'BsTauTau_tau_ptres3'])\n",
    "#full_labels = data[['BsTauTau_tau_pt', 'BsTauTau_tau_eta', 'BsTauTau_tau_phi',\n",
    "#                         'label_tau_px', 'label_tau_py','label_tau_pz', 'label_tau_abs' ]]\n",
    "target_labels = data[['BsTauTau_tau_pt', 'BsTauTau_tau_eta', 'BsTauTau_tau_phi']] # this is switched to gen later\n",
    "data = data.drop(columns=['BsTauTau_tau_pt', 'BsTauTau_tau_eta', 'BsTauTau_tau_phi',\n",
    "                         'label_tau_px', 'label_tau_py','label_tau_pz', 'label_tau_abs',\n",
    "                         'pi1_px', 'pi1_py', 'pi1_pz', 'pi2_px', 'pi2_py', 'pi2_pz', 'pi3_px',\n",
    "                         'pi3_py', 'pi3_pz', \"BsTauTau_gentaupt\"])"
   ]
  },
  {
   "cell_type": "code",
   "execution_count": null,
   "metadata": {},
   "outputs": [],
   "source": []
  },
  {
   "cell_type": "code",
   "execution_count": 93,
   "metadata": {},
   "outputs": [
    {
     "data": {
      "text/plain": [
       "12837"
      ]
     },
     "execution_count": 93,
     "metadata": {},
     "output_type": "execute_result"
    }
   ],
   "source": [
    "len(data)"
   ]
  },
  {
   "cell_type": "code",
   "execution_count": 94,
   "metadata": {},
   "outputs": [
    {
     "name": "stderr",
     "output_type": "stream",
     "text": [
      "/Users/hevjinyarar/anaconda3/lib/python3.7/site-packages/pandas/core/generic.py:5303: SettingWithCopyWarning: \n",
      "A value is trying to be set on a copy of a slice from a DataFrame.\n",
      "Try using .loc[row_indexer,col_indexer] = value instead\n",
      "\n",
      "See the caveats in the documentation: https://pandas.pydata.org/pandas-docs/stable/user_guide/indexing.html#returning-a-view-versus-a-copy\n",
      "  self[name] = value\n"
     ]
    }
   ],
   "source": [
    "target_labels.BsTauTau_tau_pt = gendata[gendata.muondecay == False].genParticle_pt.values\n",
    "target_labels.BsTauTau_tau_eta = gendata[gendata.muondecay == False].genParticle_eta.values\n",
    "target_labels.BsTauTau_tau_phi = gendata[gendata.muondecay == False].genParticle_phi.values\n",
    "\n",
    "full_labels = target_labels.copy(deep = True)\n",
    "full_labels2 = full_labels"
   ]
  },
  {
   "cell_type": "code",
   "execution_count": 95,
   "metadata": {},
   "outputs": [
    {
     "data": {
      "text/html": [
       "<div>\n",
       "<style scoped>\n",
       "    .dataframe tbody tr th:only-of-type {\n",
       "        vertical-align: middle;\n",
       "    }\n",
       "\n",
       "    .dataframe tbody tr th {\n",
       "        vertical-align: top;\n",
       "    }\n",
       "\n",
       "    .dataframe thead th {\n",
       "        text-align: right;\n",
       "    }\n",
       "</style>\n",
       "<table border=\"1\" class=\"dataframe\">\n",
       "  <thead>\n",
       "    <tr style=\"text-align: right;\">\n",
       "      <th></th>\n",
       "      <th>BsTauTau_tau_pt</th>\n",
       "      <th>BsTauTau_tau_eta</th>\n",
       "      <th>BsTauTau_tau_phi</th>\n",
       "    </tr>\n",
       "  </thead>\n",
       "  <tbody>\n",
       "    <tr>\n",
       "      <th>0</th>\n",
       "      <td>13.488393</td>\n",
       "      <td>1.012079</td>\n",
       "      <td>-2.634046</td>\n",
       "    </tr>\n",
       "    <tr>\n",
       "      <th>1</th>\n",
       "      <td>3.966762</td>\n",
       "      <td>-0.313225</td>\n",
       "      <td>1.529936</td>\n",
       "    </tr>\n",
       "    <tr>\n",
       "      <th>2</th>\n",
       "      <td>9.540873</td>\n",
       "      <td>-0.460293</td>\n",
       "      <td>-1.082947</td>\n",
       "    </tr>\n",
       "    <tr>\n",
       "      <th>3</th>\n",
       "      <td>5.323897</td>\n",
       "      <td>-1.147056</td>\n",
       "      <td>-0.648484</td>\n",
       "    </tr>\n",
       "    <tr>\n",
       "      <th>4</th>\n",
       "      <td>12.743830</td>\n",
       "      <td>-0.477580</td>\n",
       "      <td>-1.853713</td>\n",
       "    </tr>\n",
       "    <tr>\n",
       "      <th>...</th>\n",
       "      <td>...</td>\n",
       "      <td>...</td>\n",
       "      <td>...</td>\n",
       "    </tr>\n",
       "    <tr>\n",
       "      <th>12832</th>\n",
       "      <td>29.144579</td>\n",
       "      <td>0.987034</td>\n",
       "      <td>-1.525351</td>\n",
       "    </tr>\n",
       "    <tr>\n",
       "      <th>12833</th>\n",
       "      <td>4.871899</td>\n",
       "      <td>0.900070</td>\n",
       "      <td>1.597786</td>\n",
       "    </tr>\n",
       "    <tr>\n",
       "      <th>12834</th>\n",
       "      <td>6.664987</td>\n",
       "      <td>-0.877306</td>\n",
       "      <td>0.930017</td>\n",
       "    </tr>\n",
       "    <tr>\n",
       "      <th>12835</th>\n",
       "      <td>12.768838</td>\n",
       "      <td>-0.699172</td>\n",
       "      <td>-1.090078</td>\n",
       "    </tr>\n",
       "    <tr>\n",
       "      <th>12836</th>\n",
       "      <td>6.169574</td>\n",
       "      <td>-0.625941</td>\n",
       "      <td>-0.722920</td>\n",
       "    </tr>\n",
       "  </tbody>\n",
       "</table>\n",
       "<p>12837 rows × 3 columns</p>\n",
       "</div>"
      ],
      "text/plain": [
       "       BsTauTau_tau_pt  BsTauTau_tau_eta  BsTauTau_tau_phi\n",
       "0            13.488393          1.012079         -2.634046\n",
       "1             3.966762         -0.313225          1.529936\n",
       "2             9.540873         -0.460293         -1.082947\n",
       "3             5.323897         -1.147056         -0.648484\n",
       "4            12.743830         -0.477580         -1.853713\n",
       "...                ...               ...               ...\n",
       "12832        29.144579          0.987034         -1.525351\n",
       "12833         4.871899          0.900070          1.597786\n",
       "12834         6.664987         -0.877306          0.930017\n",
       "12835        12.768838         -0.699172         -1.090078\n",
       "12836         6.169574         -0.625941         -0.722920\n",
       "\n",
       "[12837 rows x 3 columns]"
      ]
     },
     "execution_count": 95,
     "metadata": {},
     "output_type": "execute_result"
    }
   ],
   "source": [
    "target_labels"
   ]
  },
  {
   "cell_type": "code",
   "execution_count": 96,
   "metadata": {},
   "outputs": [],
   "source": [
    "# order pions by pt\n",
    "pion_pts = data.loc[:,[\"BsTauTau_tau_pi1_pt\", \"BsTauTau_tau_pi2_pt\", \"BsTauTau_tau_pi3_pt\"]]\n",
    "order_df = pion_pts.apply(lambda x: np.argsort(x)[::-1], axis = 1)\n",
    "newdata = np.zeros((len(pion_pts),3))\n",
    "for i,row in enumerate(pion_pts.values):\n",
    "    order = order_df.values[i,:]\n",
    "    newrow = np.zeros(3)\n",
    "    for j,cell in enumerate(row):\n",
    "        #print(row, cell,order)\n",
    "        newrow[j] = row[order[j]]\n",
    "    newdata[i,:] = newrow\n",
    "newdata = pd.DataFrame(data = newdata, columns= pion_pts.columns)\n",
    "data.BsTauTau_tau_pi1_pt = newdata.BsTauTau_tau_pi1_pt\n",
    "data.BsTauTau_tau_pi2_pt = newdata.BsTauTau_tau_pi2_pt\n",
    "data.BsTauTau_tau_pi3_pt = newdata.BsTauTau_tau_pi3_pt"
   ]
  },
  {
   "cell_type": "code",
   "execution_count": 97,
   "metadata": {},
   "outputs": [],
   "source": [
    "# order pions by pt\n",
    "pion_etas = data.loc[:,[\"BsTauTau_tau_pi1_eta\", \"BsTauTau_tau_pi2_eta\", \"BsTauTau_tau_pi3_eta\"]]\n",
    "newdata = np.zeros((len(pion_etas),3))\n",
    "for i,row in enumerate(pion_etas.values):\n",
    "    order = order_df.values[i,:]\n",
    "    newrow = np.zeros(3)\n",
    "    for j,cell in enumerate(row):\n",
    "        #print(row, cell,order)\n",
    "        newrow[j] = row[order[j]]\n",
    "    newdata[i,:] = newrow\n",
    "newdata = pd.DataFrame(data = newdata, columns= pion_etas.columns)\n",
    "data.BsTauTau_tau_pi1_eta = newdata.BsTauTau_tau_pi1_eta\n",
    "data.BsTauTau_tau_pi2_eta = newdata.BsTauTau_tau_pi2_eta\n",
    "data.BsTauTau_tau_pi3_eta = newdata.BsTauTau_tau_pi3_eta"
   ]
  },
  {
   "cell_type": "code",
   "execution_count": 98,
   "metadata": {},
   "outputs": [],
   "source": [
    "# order pions by pt\n",
    "pion_phis = data.loc[:,[\"BsTauTau_tau_pi1_phi\", \"BsTauTau_tau_pi2_phi\", \"BsTauTau_tau_pi3_phi\"]]\n",
    "newdata = np.zeros((len(pion_phis),3))\n",
    "for i,row in enumerate(pion_phis.values):\n",
    "    order = order_df.values[i,:]\n",
    "    newrow = np.zeros(3)\n",
    "    for j,cell in enumerate(row):\n",
    "        #print(row, cell,order)\n",
    "        newrow[j] = row[order[j]]\n",
    "    newdata[i,:] = newrow\n",
    "newdata = pd.DataFrame(data = newdata, columns= pion_phis.columns)\n",
    "data.BsTauTau_tau_pi1_phi = newdata.BsTauTau_tau_pi1_phi\n",
    "data.BsTauTau_tau_pi2_phi = newdata.BsTauTau_tau_pi2_phi\n",
    "data.BsTauTau_tau_pi3_phi = newdata.BsTauTau_tau_pi3_phi"
   ]
  },
  {
   "cell_type": "code",
   "execution_count": 99,
   "metadata": {},
   "outputs": [],
   "source": [
    "# order pions by pt\n",
    "pion_dnns = data.loc[:,[\"BsTauTau_tau_pi1_dnn\", \"BsTauTau_tau_pi2_dnn\", \"BsTauTau_tau_pi3_dnn\"]]\n",
    "newdata = np.zeros((len(pion_dnns),3))\n",
    "for i,row in enumerate(pion_dnns.values):\n",
    "    order = order_df.values[i,:]\n",
    "    newrow = np.zeros(3)\n",
    "    for j,cell in enumerate(row):\n",
    "        #print(row, cell,order)\n",
    "        newrow[j] = row[order[j]]\n",
    "    newdata[i,:] = newrow\n",
    "newdata = pd.DataFrame(data = newdata, columns= pion_dnns.columns)\n",
    "data.BsTauTau_tau_pi1_dnn = newdata.BsTauTau_tau_pi1_dnn\n",
    "data.BsTauTau_tau_pi2_dnn = newdata.BsTauTau_tau_pi2_dnn\n",
    "data.BsTauTau_tau_pi3_dnn = newdata.BsTauTau_tau_pi3_dnn"
   ]
  },
  {
   "cell_type": "code",
   "execution_count": 100,
   "metadata": {},
   "outputs": [],
   "source": [
    "data[\"pi1_logpt\"] = np.log(data.BsTauTau_tau_pi1_pt.values)\n",
    "data[\"pi2_logpt\"] = np.log(data.BsTauTau_tau_pi2_pt.values)\n",
    "data[\"pi3_logpt\"] = np.log(data.BsTauTau_tau_pi3_pt.values)"
   ]
  },
  {
   "cell_type": "code",
   "execution_count": 101,
   "metadata": {},
   "outputs": [],
   "source": [
    "oldphi = target_labels.BsTauTau_tau_phi.values"
   ]
  },
  {
   "cell_type": "code",
   "execution_count": 102,
   "metadata": {},
   "outputs": [
    {
     "name": "stderr",
     "output_type": "stream",
     "text": [
      "/Users/hevjinyarar/anaconda3/lib/python3.7/site-packages/ipykernel_launcher.py:5: SettingWithCopyWarning: \n",
      "A value is trying to be set on a copy of a slice from a DataFrame.\n",
      "Try using .loc[row_indexer,col_indexer] = value instead\n",
      "\n",
      "See the caveats in the documentation: https://pandas.pydata.org/pandas-docs/stable/user_guide/indexing.html#returning-a-view-versus-a-copy\n",
      "  \"\"\"\n",
      "/Users/hevjinyarar/anaconda3/lib/python3.7/site-packages/ipykernel_launcher.py:6: SettingWithCopyWarning: \n",
      "A value is trying to be set on a copy of a slice from a DataFrame.\n",
      "Try using .loc[row_indexer,col_indexer] = value instead\n",
      "\n",
      "See the caveats in the documentation: https://pandas.pydata.org/pandas-docs/stable/user_guide/indexing.html#returning-a-view-versus-a-copy\n",
      "  \n"
     ]
    }
   ],
   "source": [
    "#full_labels[\"BsTauTau_tau_phi_cos\"] = np.cos(full_labels.BsTauTau_tau_phi.values)\n",
    "#full_labels[\"BsTauTau_tau_phi_sin\"] = np.sin(full_labels.BsTauTau_tau_phi.values)\n",
    "#full_labels = full_labels.drop(columns=[\"BsTauTau_tau_phi\"])\n",
    "\n",
    "target_labels[\"BsTauTau_tau_phi_cos\"] = np.cos(target_labels.BsTauTau_tau_phi.values)\n",
    "target_labels[\"BsTauTau_tau_phi_sin\"] = np.sin(target_labels.BsTauTau_tau_phi.values)\n",
    "target_labels = target_labels.drop(columns=[\"BsTauTau_tau_phi\"])"
   ]
  },
  {
   "cell_type": "code",
   "execution_count": 16,
   "metadata": {},
   "outputs": [],
   "source": [
    "#gendata = pd.read_csv(\"gentaus.csv\")\n",
    "#gendata = pd.read_csv(\"signalgentaus_multiple.csv\")"
   ]
  },
  {
   "cell_type": "code",
   "execution_count": 17,
   "metadata": {},
   "outputs": [],
   "source": [
    "#full_labels"
   ]
  },
  {
   "cell_type": "code",
   "execution_count": 103,
   "metadata": {},
   "outputs": [
    {
     "data": {
      "text/html": [
       "<div>\n",
       "<style scoped>\n",
       "    .dataframe tbody tr th:only-of-type {\n",
       "        vertical-align: middle;\n",
       "    }\n",
       "\n",
       "    .dataframe tbody tr th {\n",
       "        vertical-align: top;\n",
       "    }\n",
       "\n",
       "    .dataframe thead th {\n",
       "        text-align: right;\n",
       "    }\n",
       "</style>\n",
       "<table border=\"1\" class=\"dataframe\">\n",
       "  <thead>\n",
       "    <tr style=\"text-align: right;\">\n",
       "      <th></th>\n",
       "      <th>Unnamed: 0</th>\n",
       "      <th>entry</th>\n",
       "      <th>subentry</th>\n",
       "      <th>tau_px</th>\n",
       "      <th>tau_py</th>\n",
       "      <th>tau_pz</th>\n",
       "      <th>tau_abs</th>\n",
       "      <th>BsTauTau_tau_pi1_dnn</th>\n",
       "      <th>BsTauTau_tau_pi2_dnn</th>\n",
       "      <th>BsTauTau_tau_pi3_dnn</th>\n",
       "      <th>...</th>\n",
       "      <th>BsTauTau_tau_alpha</th>\n",
       "      <th>BsTauTau_tau_vprob</th>\n",
       "      <th>eventID</th>\n",
       "      <th>label_pt</th>\n",
       "      <th>label_eta</th>\n",
       "      <th>label_phi</th>\n",
       "      <th>file_number</th>\n",
       "      <th>pi1_logpt</th>\n",
       "      <th>pi2_logpt</th>\n",
       "      <th>pi3_logpt</th>\n",
       "    </tr>\n",
       "  </thead>\n",
       "  <tbody>\n",
       "    <tr>\n",
       "      <th>0</th>\n",
       "      <td>0</td>\n",
       "      <td>11</td>\n",
       "      <td>0</td>\n",
       "      <td>-8.209216</td>\n",
       "      <td>-4.809673</td>\n",
       "      <td>11.551371</td>\n",
       "      <td>14.965238</td>\n",
       "      <td>0.998287</td>\n",
       "      <td>0.894200</td>\n",
       "      <td>0.996533</td>\n",
       "      <td>...</td>\n",
       "      <td>0.996980</td>\n",
       "      <td>0.970918</td>\n",
       "      <td>11</td>\n",
       "      <td>13.488393</td>\n",
       "      <td>1.012079</td>\n",
       "      <td>-2.634046</td>\n",
       "      <td>0.0</td>\n",
       "      <td>1.596859</td>\n",
       "      <td>0.930255</td>\n",
       "      <td>0.719173</td>\n",
       "    </tr>\n",
       "    <tr>\n",
       "      <th>1</th>\n",
       "      <td>1</td>\n",
       "      <td>60</td>\n",
       "      <td>0</td>\n",
       "      <td>-0.321221</td>\n",
       "      <td>2.892424</td>\n",
       "      <td>-0.957565</td>\n",
       "      <td>3.063696</td>\n",
       "      <td>0.668986</td>\n",
       "      <td>0.632550</td>\n",
       "      <td>0.660951</td>\n",
       "      <td>...</td>\n",
       "      <td>0.985640</td>\n",
       "      <td>0.666410</td>\n",
       "      <td>60</td>\n",
       "      <td>3.966762</td>\n",
       "      <td>-0.313225</td>\n",
       "      <td>1.529936</td>\n",
       "      <td>0.0</td>\n",
       "      <td>0.468538</td>\n",
       "      <td>-0.022717</td>\n",
       "      <td>-0.677643</td>\n",
       "    </tr>\n",
       "    <tr>\n",
       "      <th>2</th>\n",
       "      <td>2</td>\n",
       "      <td>66</td>\n",
       "      <td>0</td>\n",
       "      <td>2.375849</td>\n",
       "      <td>-4.293860</td>\n",
       "      <td>-2.092270</td>\n",
       "      <td>5.334744</td>\n",
       "      <td>0.285532</td>\n",
       "      <td>0.838491</td>\n",
       "      <td>0.718785</td>\n",
       "      <td>...</td>\n",
       "      <td>0.979610</td>\n",
       "      <td>0.292443</td>\n",
       "      <td>66</td>\n",
       "      <td>9.540873</td>\n",
       "      <td>-0.460293</td>\n",
       "      <td>-1.082947</td>\n",
       "      <td>0.0</td>\n",
       "      <td>0.690213</td>\n",
       "      <td>0.656852</td>\n",
       "      <td>0.027927</td>\n",
       "    </tr>\n",
       "    <tr>\n",
       "      <th>3</th>\n",
       "      <td>3</td>\n",
       "      <td>135</td>\n",
       "      <td>0</td>\n",
       "      <td>3.908763</td>\n",
       "      <td>-2.411756</td>\n",
       "      <td>-6.459907</td>\n",
       "      <td>7.926247</td>\n",
       "      <td>0.999999</td>\n",
       "      <td>0.999997</td>\n",
       "      <td>0.999858</td>\n",
       "      <td>...</td>\n",
       "      <td>0.962620</td>\n",
       "      <td>0.737935</td>\n",
       "      <td>135</td>\n",
       "      <td>5.323897</td>\n",
       "      <td>-1.147056</td>\n",
       "      <td>-0.648484</td>\n",
       "      <td>0.0</td>\n",
       "      <td>0.580053</td>\n",
       "      <td>0.478270</td>\n",
       "      <td>0.250120</td>\n",
       "    </tr>\n",
       "    <tr>\n",
       "      <th>4</th>\n",
       "      <td>4</td>\n",
       "      <td>147</td>\n",
       "      <td>0</td>\n",
       "      <td>-1.856974</td>\n",
       "      <td>-7.924614</td>\n",
       "      <td>-4.175698</td>\n",
       "      <td>9.147914</td>\n",
       "      <td>0.691123</td>\n",
       "      <td>0.492340</td>\n",
       "      <td>0.296000</td>\n",
       "      <td>...</td>\n",
       "      <td>0.996799</td>\n",
       "      <td>0.921039</td>\n",
       "      <td>147</td>\n",
       "      <td>12.743830</td>\n",
       "      <td>-0.477580</td>\n",
       "      <td>-1.853713</td>\n",
       "      <td>0.0</td>\n",
       "      <td>1.304949</td>\n",
       "      <td>1.101213</td>\n",
       "      <td>0.397622</td>\n",
       "    </tr>\n",
       "    <tr>\n",
       "      <th>...</th>\n",
       "      <td>...</td>\n",
       "      <td>...</td>\n",
       "      <td>...</td>\n",
       "      <td>...</td>\n",
       "      <td>...</td>\n",
       "      <td>...</td>\n",
       "      <td>...</td>\n",
       "      <td>...</td>\n",
       "      <td>...</td>\n",
       "      <td>...</td>\n",
       "      <td>...</td>\n",
       "      <td>...</td>\n",
       "      <td>...</td>\n",
       "      <td>...</td>\n",
       "      <td>...</td>\n",
       "      <td>...</td>\n",
       "      <td>...</td>\n",
       "      <td>...</td>\n",
       "      <td>...</td>\n",
       "      <td>...</td>\n",
       "      <td>...</td>\n",
       "    </tr>\n",
       "    <tr>\n",
       "      <th>12832</th>\n",
       "      <td>583</td>\n",
       "      <td>22486</td>\n",
       "      <td>0</td>\n",
       "      <td>0.248660</td>\n",
       "      <td>-9.313651</td>\n",
       "      <td>10.288762</td>\n",
       "      <td>13.880366</td>\n",
       "      <td>0.999791</td>\n",
       "      <td>0.998798</td>\n",
       "      <td>0.998866</td>\n",
       "      <td>...</td>\n",
       "      <td>0.977615</td>\n",
       "      <td>0.783822</td>\n",
       "      <td>22486</td>\n",
       "      <td>29.144579</td>\n",
       "      <td>0.987034</td>\n",
       "      <td>-1.525351</td>\n",
       "      <td>19.0</td>\n",
       "      <td>1.483910</td>\n",
       "      <td>1.099914</td>\n",
       "      <td>0.647696</td>\n",
       "    </tr>\n",
       "    <tr>\n",
       "      <th>12833</th>\n",
       "      <td>584</td>\n",
       "      <td>22608</td>\n",
       "      <td>0</td>\n",
       "      <td>-0.403766</td>\n",
       "      <td>3.883252</td>\n",
       "      <td>4.518555</td>\n",
       "      <td>5.971601</td>\n",
       "      <td>0.988222</td>\n",
       "      <td>0.718116</td>\n",
       "      <td>0.473859</td>\n",
       "      <td>...</td>\n",
       "      <td>0.967955</td>\n",
       "      <td>0.578903</td>\n",
       "      <td>22608</td>\n",
       "      <td>4.871899</td>\n",
       "      <td>0.900070</td>\n",
       "      <td>1.597786</td>\n",
       "      <td>19.0</td>\n",
       "      <td>0.462406</td>\n",
       "      <td>0.231701</td>\n",
       "      <td>0.077033</td>\n",
       "    </tr>\n",
       "    <tr>\n",
       "      <th>12834</th>\n",
       "      <td>585</td>\n",
       "      <td>22709</td>\n",
       "      <td>0</td>\n",
       "      <td>3.180289</td>\n",
       "      <td>3.713932</td>\n",
       "      <td>-5.281202</td>\n",
       "      <td>7.197126</td>\n",
       "      <td>0.882515</td>\n",
       "      <td>0.983710</td>\n",
       "      <td>0.994869</td>\n",
       "      <td>...</td>\n",
       "      <td>0.990314</td>\n",
       "      <td>0.606934</td>\n",
       "      <td>22709</td>\n",
       "      <td>6.664987</td>\n",
       "      <td>-0.877306</td>\n",
       "      <td>0.930017</td>\n",
       "      <td>19.0</td>\n",
       "      <td>0.718221</td>\n",
       "      <td>0.476453</td>\n",
       "      <td>0.207395</td>\n",
       "    </tr>\n",
       "    <tr>\n",
       "      <th>12835</th>\n",
       "      <td>586</td>\n",
       "      <td>22769</td>\n",
       "      <td>0</td>\n",
       "      <td>4.225609</td>\n",
       "      <td>-8.936357</td>\n",
       "      <td>-7.700234</td>\n",
       "      <td>12.530278</td>\n",
       "      <td>0.541376</td>\n",
       "      <td>0.409247</td>\n",
       "      <td>0.466232</td>\n",
       "      <td>...</td>\n",
       "      <td>0.997222</td>\n",
       "      <td>0.408060</td>\n",
       "      <td>22769</td>\n",
       "      <td>12.768838</td>\n",
       "      <td>-0.699172</td>\n",
       "      <td>-1.090078</td>\n",
       "      <td>19.0</td>\n",
       "      <td>1.656739</td>\n",
       "      <td>1.034768</td>\n",
       "      <td>0.621815</td>\n",
       "    </tr>\n",
       "    <tr>\n",
       "      <th>12836</th>\n",
       "      <td>587</td>\n",
       "      <td>22770</td>\n",
       "      <td>0</td>\n",
       "      <td>3.837178</td>\n",
       "      <td>-3.652371</td>\n",
       "      <td>-2.919310</td>\n",
       "      <td>6.048646</td>\n",
       "      <td>0.999746</td>\n",
       "      <td>0.999846</td>\n",
       "      <td>0.998383</td>\n",
       "      <td>...</td>\n",
       "      <td>0.969165</td>\n",
       "      <td>0.914540</td>\n",
       "      <td>22770</td>\n",
       "      <td>6.169574</td>\n",
       "      <td>-0.625941</td>\n",
       "      <td>-0.722920</td>\n",
       "      <td>19.0</td>\n",
       "      <td>0.984971</td>\n",
       "      <td>0.511607</td>\n",
       "      <td>-0.044430</td>\n",
       "    </tr>\n",
       "  </tbody>\n",
       "</table>\n",
       "<p>12837 rows × 54 columns</p>\n",
       "</div>"
      ],
      "text/plain": [
       "       Unnamed: 0  entry  subentry    tau_px    tau_py     tau_pz    tau_abs  \\\n",
       "0               0     11         0 -8.209216 -4.809673  11.551371  14.965238   \n",
       "1               1     60         0 -0.321221  2.892424  -0.957565   3.063696   \n",
       "2               2     66         0  2.375849 -4.293860  -2.092270   5.334744   \n",
       "3               3    135         0  3.908763 -2.411756  -6.459907   7.926247   \n",
       "4               4    147         0 -1.856974 -7.924614  -4.175698   9.147914   \n",
       "...           ...    ...       ...       ...       ...        ...        ...   \n",
       "12832         583  22486         0  0.248660 -9.313651  10.288762  13.880366   \n",
       "12833         584  22608         0 -0.403766  3.883252   4.518555   5.971601   \n",
       "12834         585  22709         0  3.180289  3.713932  -5.281202   7.197126   \n",
       "12835         586  22769         0  4.225609 -8.936357  -7.700234  12.530278   \n",
       "12836         587  22770         0  3.837178 -3.652371  -2.919310   6.048646   \n",
       "\n",
       "       BsTauTau_tau_pi1_dnn  BsTauTau_tau_pi2_dnn  BsTauTau_tau_pi3_dnn  ...  \\\n",
       "0                  0.998287              0.894200              0.996533  ...   \n",
       "1                  0.668986              0.632550              0.660951  ...   \n",
       "2                  0.285532              0.838491              0.718785  ...   \n",
       "3                  0.999999              0.999997              0.999858  ...   \n",
       "4                  0.691123              0.492340              0.296000  ...   \n",
       "...                     ...                   ...                   ...  ...   \n",
       "12832              0.999791              0.998798              0.998866  ...   \n",
       "12833              0.988222              0.718116              0.473859  ...   \n",
       "12834              0.882515              0.983710              0.994869  ...   \n",
       "12835              0.541376              0.409247              0.466232  ...   \n",
       "12836              0.999746              0.999846              0.998383  ...   \n",
       "\n",
       "       BsTauTau_tau_alpha  BsTauTau_tau_vprob  eventID   label_pt  label_eta  \\\n",
       "0                0.996980            0.970918       11  13.488393   1.012079   \n",
       "1                0.985640            0.666410       60   3.966762  -0.313225   \n",
       "2                0.979610            0.292443       66   9.540873  -0.460293   \n",
       "3                0.962620            0.737935      135   5.323897  -1.147056   \n",
       "4                0.996799            0.921039      147  12.743830  -0.477580   \n",
       "...                   ...                 ...      ...        ...        ...   \n",
       "12832            0.977615            0.783822    22486  29.144579   0.987034   \n",
       "12833            0.967955            0.578903    22608   4.871899   0.900070   \n",
       "12834            0.990314            0.606934    22709   6.664987  -0.877306   \n",
       "12835            0.997222            0.408060    22769  12.768838  -0.699172   \n",
       "12836            0.969165            0.914540    22770   6.169574  -0.625941   \n",
       "\n",
       "       label_phi  file_number  pi1_logpt  pi2_logpt  pi3_logpt  \n",
       "0      -2.634046          0.0   1.596859   0.930255   0.719173  \n",
       "1       1.529936          0.0   0.468538  -0.022717  -0.677643  \n",
       "2      -1.082947          0.0   0.690213   0.656852   0.027927  \n",
       "3      -0.648484          0.0   0.580053   0.478270   0.250120  \n",
       "4      -1.853713          0.0   1.304949   1.101213   0.397622  \n",
       "...          ...          ...        ...        ...        ...  \n",
       "12832  -1.525351         19.0   1.483910   1.099914   0.647696  \n",
       "12833   1.597786         19.0   0.462406   0.231701   0.077033  \n",
       "12834   0.930017         19.0   0.718221   0.476453   0.207395  \n",
       "12835  -1.090078         19.0   1.656739   1.034768   0.621815  \n",
       "12836  -0.722920         19.0   0.984971   0.511607  -0.044430  \n",
       "\n",
       "[12837 rows x 54 columns]"
      ]
     },
     "execution_count": 103,
     "metadata": {},
     "output_type": "execute_result"
    }
   ],
   "source": [
    "data"
   ]
  },
  {
   "cell_type": "code",
   "execution_count": 104,
   "metadata": {},
   "outputs": [],
   "source": [
    "data[\"BsTauTau_tau_pi1_phi_cos\"] = np.cos(data.BsTauTau_tau_pi1_phi.values)\n",
    "data[\"BsTauTau_tau_pi1_phi_sin\"] = np.sin(data.BsTauTau_tau_pi1_phi.values)\n",
    "data[\"BsTauTau_tau_pi2_phi_cos\"] = np.cos(data.BsTauTau_tau_pi2_phi.values)\n",
    "data[\"BsTauTau_tau_pi2_phi_sin\"] = np.sin(data.BsTauTau_tau_pi2_phi.values)\n",
    "data[\"BsTauTau_tau_pi3_phi_cos\"] = np.cos(data.BsTauTau_tau_pi3_phi.values)\n",
    "data[\"BsTauTau_tau_pi3_phi_sin\"] = np.sin(data.BsTauTau_tau_pi3_phi.values)"
   ]
  },
  {
   "cell_type": "code",
   "execution_count": 105,
   "metadata": {},
   "outputs": [
    {
     "name": "stdout",
     "output_type": "stream",
     "text": [
      "Index(['Unnamed: 0', 'entry', 'subentry', 'tau_px', 'tau_py', 'tau_pz',\n",
      "       'tau_abs', 'BsTauTau_tau_pi1_dnn', 'BsTauTau_tau_pi2_dnn',\n",
      "       'BsTauTau_tau_pi3_dnn', 'BsTauTau_tau_pi1_pt', 'BsTauTau_tau_pi1_eta',\n",
      "       'BsTauTau_tau_pi1_phi', 'BsTauTau_tau_pi2_pt', 'BsTauTau_tau_pi2_eta',\n",
      "       'BsTauTau_tau_pi2_phi', 'BsTauTau_tau_pi3_pt', 'BsTauTau_tau_pi3_eta',\n",
      "       'BsTauTau_tau_pi3_phi', 'BsTauTau_tau_isRight', 'BsTauTau_tau_isRight1',\n",
      "       'BsTauTau_tau_isRight2', 'BsTauTau_tau_isRight3', 'BsTauTau_tau_dr1',\n",
      "       'BsTauTau_tau_dr2', 'BsTauTau_tau_dr3', 'BsTauTau_tau_ptres1',\n",
      "       'BsTauTau_tau_ptres2', 'BsTauTau_tau_ptres3',\n",
      "       'BsTauTau_tau_matched_gentaupt', 'BsTauTau_tau_matched_ppdgId',\n",
      "       'BsTauTau_tau_pvips', 'BsTauTau_tau_rhomass1', 'BsTauTau_tau_rhomass2',\n",
      "       'BsTauTau_tau_q', 'BsTauTau_tau_vx', 'BsTauTau_tau_vy',\n",
      "       'BsTauTau_tau_vz', 'BsTauTau_tau_max_dr_3prong', 'BsTauTau_tau_lip',\n",
      "       'BsTauTau_tau_lips', 'BsTauTau_tau_pvip', 'BsTauTau_tau_fl3d',\n",
      "       'BsTauTau_tau_fls3d', 'BsTauTau_tau_alpha', 'BsTauTau_tau_vprob',\n",
      "       'eventID', 'label_pt', 'label_eta', 'label_phi', 'file_number',\n",
      "       'pi1_logpt', 'pi2_logpt', 'pi3_logpt', 'BsTauTau_tau_pi1_phi_cos',\n",
      "       'BsTauTau_tau_pi1_phi_sin', 'BsTauTau_tau_pi2_phi_cos',\n",
      "       'BsTauTau_tau_pi2_phi_sin', 'BsTauTau_tau_pi3_phi_cos',\n",
      "       'BsTauTau_tau_pi3_phi_sin'],\n",
      "      dtype='object')\n"
     ]
    }
   ],
   "source": [
    "print(data.columns)\n",
    "data = data.drop(columns=['BsTauTau_tau_matched_gentaupt', 'BsTauTau_tau_matched_ppdgId'])"
   ]
  },
  {
   "cell_type": "code",
   "execution_count": 107,
   "metadata": {},
   "outputs": [],
   "source": [
    "data = data.drop(columns = ['label_pt', 'label_eta', 'label_phi' ])"
   ]
  },
  {
   "cell_type": "code",
   "execution_count": 108,
   "metadata": {},
   "outputs": [
    {
     "name": "stdout",
     "output_type": "stream",
     "text": [
      "Index(['Unnamed: 0', 'entry', 'subentry', 'tau_px', 'tau_py', 'tau_pz',\n",
      "       'tau_abs', 'BsTauTau_tau_pi1_dnn', 'BsTauTau_tau_pi2_dnn',\n",
      "       'BsTauTau_tau_pi3_dnn', 'BsTauTau_tau_pi1_pt', 'BsTauTau_tau_pi1_eta',\n",
      "       'BsTauTau_tau_pi1_phi', 'BsTauTau_tau_pi2_pt', 'BsTauTau_tau_pi2_eta',\n",
      "       'BsTauTau_tau_pi2_phi', 'BsTauTau_tau_pi3_pt', 'BsTauTau_tau_pi3_eta',\n",
      "       'BsTauTau_tau_pi3_phi', 'BsTauTau_tau_isRight', 'BsTauTau_tau_isRight1',\n",
      "       'BsTauTau_tau_isRight2', 'BsTauTau_tau_isRight3', 'BsTauTau_tau_dr1',\n",
      "       'BsTauTau_tau_dr2', 'BsTauTau_tau_dr3', 'BsTauTau_tau_ptres1',\n",
      "       'BsTauTau_tau_ptres2', 'BsTauTau_tau_ptres3', 'BsTauTau_tau_pvips',\n",
      "       'BsTauTau_tau_rhomass1', 'BsTauTau_tau_rhomass2', 'BsTauTau_tau_q',\n",
      "       'BsTauTau_tau_vx', 'BsTauTau_tau_vy', 'BsTauTau_tau_vz',\n",
      "       'BsTauTau_tau_max_dr_3prong', 'BsTauTau_tau_lip', 'BsTauTau_tau_lips',\n",
      "       'BsTauTau_tau_pvip', 'BsTauTau_tau_fl3d', 'BsTauTau_tau_fls3d',\n",
      "       'BsTauTau_tau_alpha', 'BsTauTau_tau_vprob', 'eventID', 'file_number',\n",
      "       'pi1_logpt', 'pi2_logpt', 'pi3_logpt', 'BsTauTau_tau_pi1_phi_cos',\n",
      "       'BsTauTau_tau_pi1_phi_sin', 'BsTauTau_tau_pi2_phi_cos',\n",
      "       'BsTauTau_tau_pi2_phi_sin', 'BsTauTau_tau_pi3_phi_cos',\n",
      "       'BsTauTau_tau_pi3_phi_sin'],\n",
      "      dtype='object')\n"
     ]
    }
   ],
   "source": [
    "print(data.columns)\n",
    "#data = data.drop(columns=['eventID', 'BsTauTau_tau_isRight', 'BsTauTau_tau_isRight1',\n",
    "#       'BsTauTau_tau_isRight2', 'BsTauTau_tau_isRight3'])"
   ]
  },
  {
   "cell_type": "code",
   "execution_count": null,
   "metadata": {},
   "outputs": [],
   "source": []
  },
  {
   "cell_type": "code",
   "execution_count": 110,
   "metadata": {},
   "outputs": [
    {
     "name": "stdout",
     "output_type": "stream",
     "text": [
      "[    0     1     2 ... 12834 12835 12836]\n",
      "7417 7417\n"
     ]
    }
   ],
   "source": [
    "# final check for duplicates\n",
    "data.columns\n",
    "data_small = data[['BsTauTau_tau_pi1_dnn', 'BsTauTau_tau_pi2_dnn', 'BsTauTau_tau_pi3_dnn',\n",
    "       'BsTauTau_tau_pi1_pt', 'BsTauTau_tau_pi1_eta', 'BsTauTau_tau_pi1_phi',\n",
    "       'BsTauTau_tau_pi2_pt', 'BsTauTau_tau_pi2_eta', 'BsTauTau_tau_pi2_phi',\n",
    "       'BsTauTau_tau_pi3_pt', 'BsTauTau_tau_pi3_eta', 'BsTauTau_tau_pi3_phi']]\n",
    "indic = data_small.drop_duplicates(keep = \"first\").index.values\n",
    "print(indic)\n",
    "data_small = data.iloc[indic,:]\n",
    "target_labels_small = target_labels.iloc[indic]\n",
    "print(len(data_small), len(data_small.drop_duplicates(keep = \"first\")))"
   ]
  },
  {
   "cell_type": "code",
   "execution_count": 111,
   "metadata": {},
   "outputs": [],
   "source": [
    "indices = np.arange(len(data_small))\n",
    "X_train, X_test, y_train, y_test, index_train, index_test = train_test_split(data_small, target_labels_small,indices, test_size=0.5, shuffle = True, random_state=42)"
   ]
  },
  {
   "cell_type": "code",
   "execution_count": 112,
   "metadata": {},
   "outputs": [
    {
     "name": "stderr",
     "output_type": "stream",
     "text": [
      "/Users/hevjinyarar/anaconda3/lib/python3.7/site-packages/sklearn/utils/validation.py:595: DataConversionWarning: Data with input dtype object was converted to float64 by StandardScaler.\n",
      "  warnings.warn(msg, DataConversionWarning)\n",
      "/Users/hevjinyarar/anaconda3/lib/python3.7/site-packages/sklearn/utils/validation.py:595: DataConversionWarning: Data with input dtype object was converted to float64 by StandardScaler.\n",
      "  warnings.warn(msg, DataConversionWarning)\n",
      "/Users/hevjinyarar/anaconda3/lib/python3.7/site-packages/sklearn/utils/validation.py:595: DataConversionWarning: Data with input dtype object was converted to float64 by StandardScaler.\n",
      "  warnings.warn(msg, DataConversionWarning)\n"
     ]
    }
   ],
   "source": [
    "\"\"\"\n",
    "def scale_features_target(data,target_labels):\n",
    "    scaler_features = StandardScaler()\n",
    "    scaler_features.fit(data.values)\n",
    "    data = pd.DataFrame(scaler_features.transform(data.values), columns=data.columns, index=data.index)\n",
    "    \n",
    "    scaler_targets = StandardScaler()\n",
    "    scaler_targets.fit(target_labels)\n",
    "    target_labels = pd.DataFrame(scaler_targets.transform(target_labels.values), columns=target_labels.columns, index=target_labels.index) \n",
    "    return data, target_labels, scaler_features, scaler_targets\n",
    "\n",
    "\n",
    "data, target_labels, scaler_features, scaler_targets = scale_features_target(data,target_labels)\n",
    "\"\"\"\n",
    "\n",
    "\n",
    "def scale_features_target(X_train, X_test, y_train, y_test):\n",
    "    scaler_features = StandardScaler()\n",
    "    scaler_features.fit(X_train.values)\n",
    "    X_train = pd.DataFrame(scaler_features.transform(X_train.values), columns=X_train.columns, index=X_train.index)\n",
    "    X_test = pd.DataFrame(scaler_features.transform(X_test.values), columns=X_test.columns, index=X_test.index)\n",
    "    \n",
    "    scaler_targets = StandardScaler()\n",
    "    scaler_targets.fit(y_train)\n",
    "    y_train = pd.DataFrame(scaler_targets.transform(y_train.values), columns=y_train.columns, index=y_train.index) \n",
    "    y_test = pd.DataFrame(scaler_targets.transform(y_test.values), columns=y_test.columns, index=y_test.index) \n",
    "    return X_train, X_test, y_train, y_test, scaler_features, scaler_targets\n",
    "\n",
    "X_train, X_test, y_train, y_test, scaler_features, scaler_targets = scale_features_target(X_train, X_test, y_train, y_test)\n",
    "\n",
    "\n",
    "\n",
    "\"\"\"\n",
    "#try robustscaler for tau - pt\n",
    "def scale_features_target(data,target_labels):\n",
    "    \n",
    "    scaler_features = StandardScaler()\n",
    "    scaler_features.fit(data.values)\n",
    "    data = pd.DataFrame(scaler_features.transform(data.values), columns=data.columns, index=data.index)\n",
    "    \n",
    "    scaler_target_pt = RobustScaler(with_centering=False, quantile_range=(0.1, 25.0))\n",
    "    scaler_target_pt.fit(target_labels.BsTauTau_tau_pt.values.reshape(-1,1))\n",
    "    new_pt = scaler_target_pt.transform(target_labels.BsTauTau_tau_pt.values.reshape(-1,1))\n",
    "    \n",
    "    scaler_targets = StandardScaler()\n",
    "    target_labels = target_labels.drop(columns = [\"BsTauTau_tau_pt\"])\n",
    "    scaler_targets.fit(target_labels)\n",
    "    target_labels = pd.DataFrame(np.hstack([new_pt, scaler_targets.transform(target_labels.values)]),\n",
    "                                 columns=[\"BsTauTau_tau_pt\", \"BsTauTau_tau_eta\",\"BsTauTau_tau_phi_cos\",\"BsTauTau_tau_phi_sin\"],\n",
    "                                 index=target_labels.index)   \n",
    "    return data, target_labels, scaler_features,scaler_pt, scaler_targets\n",
    "\n",
    "\n",
    "data, target_labels, scaler_features, scaler_pt, scaler_targets = scale_features_target(data,target_labels)\n",
    "\"\"\";"
   ]
  },
  {
   "cell_type": "code",
   "execution_count": 25,
   "metadata": {},
   "outputs": [],
   "source": [
    "#indices = np.arange(len(data))\n",
    "#X_train, X_test, y_train, y_test, index_train, index_test = train_test_split(data, target_labels,indices, test_size=0.3, shuffle = True, random_state=42)"
   ]
  },
  {
   "cell_type": "code",
   "execution_count": null,
   "metadata": {},
   "outputs": [],
   "source": []
  },
  {
   "cell_type": "code",
   "execution_count": null,
   "metadata": {},
   "outputs": [],
   "source": []
  },
  {
   "cell_type": "code",
   "execution_count": 113,
   "metadata": {},
   "outputs": [
    {
     "data": {
      "text/plain": [
       "(array([340., 391., 352., 370., 423., 328., 308., 399., 441., 356.]),\n",
       " array([-1.75267113, -1.40679441, -1.06091769, -0.71504097, -0.36916425,\n",
       "        -0.02328753,  0.32258919,  0.66846591,  1.01434263,  1.36021935,\n",
       "         1.70609607]),\n",
       " <a list of 10 Patch objects>)"
      ]
     },
     "execution_count": 113,
     "metadata": {},
     "output_type": "execute_result"
    },
    {
     "data": {
      "image/png": "[encoded data removed]",
      "text/plain": [
       "<Figure size 864x252 with 1 Axes>"
      ]
     },
     "metadata": {
      "needs_background": "light"
     },
     "output_type": "display_data"
    }
   ],
   "source": [
    "plt.hist(X_train.BsTauTau_tau_pi3_phi)"
   ]
  },
  {
   "cell_type": "code",
   "execution_count": null,
   "metadata": {},
   "outputs": [],
   "source": []
  },
  {
   "cell_type": "code",
   "execution_count": 115,
   "metadata": {},
   "outputs": [],
   "source": [
    "#from catboost import Pool\n",
    "#train_data = Pool(data=X_train, label=y_train, weight=pt_weight)"
   ]
  },
  {
   "cell_type": "code",
   "execution_count": null,
   "metadata": {},
   "outputs": [],
   "source": []
  },
  {
   "cell_type": "code",
   "execution_count": 117,
   "metadata": {},
   "outputs": [
    {
     "name": "stdout",
     "output_type": "stream",
     "text": [
      "0:\tlearn: 1.9575976\ttest: 1.9426906\tbest: 1.9426906 (0)\ttotal: 68.4ms\tremaining: 11m 23s\n",
      "2500:\tlearn: 0.1257439\ttest: 0.3652304\tbest: 0.3648859 (1818)\ttotal: 1m 16s\tremaining: 3m 49s\n",
      "5000:\tlearn: 0.0583232\ttest: 0.3659063\tbest: 0.3648859 (1818)\ttotal: 2m 33s\tremaining: 2m 33s\n",
      "7500:\tlearn: 0.0292192\ttest: 0.3664039\tbest: 0.3648859 (1818)\ttotal: 3m 47s\tremaining: 1m 15s\n",
      "9999:\tlearn: 0.0154424\ttest: 0.3665579\tbest: 0.3648859 (1818)\ttotal: 5m 33s\tremaining: 0us\n",
      "\n",
      "bestTest = 0.3648859128\n",
      "bestIteration = 1818\n",
      "\n",
      "Shrink model to first 1819 iterations.\n"
     ]
    }
   ],
   "source": [
    "def train_on_cpu():  \n",
    "    model = CatBoostRegressor(iterations=10000,  learning_rate=0.03 ,  objective=\"MultiRMSE\")\n",
    "    model.fit(X_train, y_train,   eval_set=(X_test, y_test),   verbose=2500 )\n",
    "    return model\n",
    "\n",
    "model = train_on_cpu()"
   ]
  },
  {
   "cell_type": "code",
   "execution_count": 118,
   "metadata": {},
   "outputs": [],
   "source": [
    "def grid_search():  \n",
    "    model = CatBoostRegressor(iterations=10000 , objective=\"MultiRMSE\")\n",
    "    grid = {'learning_rate': [0.01, 0.03, 0.05, 0.07, 0.09,  0.12],\n",
    "        'depth': [4, 6, 10],\n",
    "        'l2_leaf_reg': [1, 3, 5, 7, 9]}  \n",
    "    grid_search_result = model.grid_search(grid, \n",
    "                                       X=X_train, \n",
    "                                       y=y_train, \n",
    "                                       plot=True)\n",
    "    #model.fit(X_train, y_train,   eval_set=(X_test, y_test),   verbose=10000 )\n",
    "    return model\n",
    "\n",
    "#grid_search()"
   ]
  },
  {
   "cell_type": "code",
   "execution_count": null,
   "metadata": {},
   "outputs": [],
   "source": []
  },
  {
   "cell_type": "code",
   "execution_count": 119,
   "metadata": {},
   "outputs": [],
   "source": [
    "preds = model.predict(X_test)\n",
    "#descale\n",
    "#preds_descaled = scaler_targets.inverse_transform(preds)\n",
    "#preds_df = pd.DataFrame(columns=[\"pred_pt\",\"pred_eta\",\"pred_phi\"], data = preds_descaled)\n",
    "preds_descaled = scaler_targets.inverse_transform(preds)\n",
    "preds_df = pd.DataFrame(columns=[\"pred_pt\",\"pred_eta\",\"pred_phi_sin\",\"pred_phi_cos\"], data = preds_descaled)\n",
    "new_phi = np.arctan2(preds_descaled[:,3],preds_descaled[:,2])\n",
    "#new_phi = np.arctan2(preds[:,2],preds[:,3])\n",
    "new_phi\n",
    "#preds_df.hist(bins = 50, layout = (1,3), figsize = (6,2) );\n",
    "#full_labels.iloc[index_test,:3].hist(bins = 50, layout = (1,3), figsize = (6,2) );\n",
    "\n",
    "\"\"\"\n",
    "preds = model.predict(X_test)\n",
    "#descale\n",
    "preds_pt = scaler_pt.inverse_transform(preds[:,0].reshape(-1,1))\n",
    "preds_descaled = scaler_targets.inverse_transform(preds[:,1:])\n",
    "preds_df = pd.DataFrame(columns=[\"pred_pt\",\"pred_eta\",\"pred_phi_sin\",\"pred_phi_cos\"], data = np.hstack([preds_pt, preds_descaled]))\n",
    "new_phi = np.arctan2(preds_descaled[:,2],preds_descaled[:,1])\n",
    "#new_phi = np.arctan2(preds[:,2],preds[:,3])\n",
    "new_phi\n",
    "#preds_df.hist(bins = 50, layout = (1,3), figsize = (6,2) );\n",
    "#full_labels.iloc[index_test,:3].hist(bins = 50, layout = (1,3), figsize = (6,2) );\n",
    "\"\"\";"
   ]
  },
  {
   "cell_type": "code",
   "execution_count": 120,
   "metadata": {},
   "outputs": [
    {
     "data": {
      "text/plain": [
       "array([[-0.59109673, -0.65936115, -1.16269089,  0.77320114],\n",
       "       [-0.08581983, -0.19340679,  1.28012902, -0.65821224],\n",
       "       [-0.0709692 , -0.49694958,  1.4082232 ,  0.27751762],\n",
       "       ...,\n",
       "       [ 0.68650625,  0.16223558,  1.15910245, -0.88155534],\n",
       "       [-0.74325436, -0.62043636,  1.21665825,  0.72579534],\n",
       "       [-0.62741828, -0.48684007, -1.10225892,  0.80917803]])"
      ]
     },
     "execution_count": 120,
     "metadata": {},
     "output_type": "execute_result"
    }
   ],
   "source": [
    "preds"
   ]
  },
  {
   "cell_type": "code",
   "execution_count": 124,
   "metadata": {},
   "outputs": [
    {
     "data": {
      "image/png": "[encoded data removed]",
      "text/plain": [
       "<Figure size 216x576 with 1 Axes>"
      ]
     },
     "metadata": {
      "needs_background": "light"
     },
     "output_type": "display_data"
    }
   ],
   "source": [
    "# Plot the feature importances \n",
    "importances = model.get_feature_importance()\n",
    "index = np.argsort(importances)\n",
    "importances = importances[index]\n",
    "indices = list(data.columns)\n",
    "indices = np.asarray(indices)[index]\n",
    "\n",
    "plt.figure()\n",
    "plt.rcParams['figure.figsize'] = [3, 8]\n",
    "plt.title(\"Feature importances\")\n",
    "plt.barh(range(importances.shape[0]), importances, color=\"r\", align=\"center\")\n",
    "plt.yticks(range(importances.shape[0]), indices)\n",
    "plt.ylim([-1, importances.shape[0]])\n",
    "#plt.show()\n",
    "plt.savefig(\"feats1.png\")"
   ]
  },
  {
   "cell_type": "code",
   "execution_count": 125,
   "metadata": {},
   "outputs": [
    {
     "data": {
      "text/plain": [
       "array([[-0.59109673, -0.65936115, -1.16269089,  0.77320114],\n",
       "       [-0.08581983, -0.19340679,  1.28012902, -0.65821224],\n",
       "       [-0.0709692 , -0.49694958,  1.4082232 ,  0.27751762],\n",
       "       ...,\n",
       "       [ 0.68650625,  0.16223558,  1.15910245, -0.88155534],\n",
       "       [-0.74325436, -0.62043636,  1.21665825,  0.72579534],\n",
       "       [-0.62741828, -0.48684007, -1.10225892,  0.80917803]])"
      ]
     },
     "execution_count": 125,
     "metadata": {},
     "output_type": "execute_result"
    }
   ],
   "source": [
    "preds"
   ]
  },
  {
   "cell_type": "code",
   "execution_count": 126,
   "metadata": {},
   "outputs": [
    {
     "data": {
      "text/html": [
       "<div>\n",
       "<style scoped>\n",
       "    .dataframe tbody tr th:only-of-type {\n",
       "        vertical-align: middle;\n",
       "    }\n",
       "\n",
       "    .dataframe tbody tr th {\n",
       "        vertical-align: top;\n",
       "    }\n",
       "\n",
       "    .dataframe thead th {\n",
       "        text-align: right;\n",
       "    }\n",
       "</style>\n",
       "<table border=\"1\" class=\"dataframe\">\n",
       "  <thead>\n",
       "    <tr style=\"text-align: right;\">\n",
       "      <th></th>\n",
       "      <th>BsTauTau_tau_pt</th>\n",
       "      <th>BsTauTau_tau_eta</th>\n",
       "      <th>BsTauTau_tau_phi_cos</th>\n",
       "      <th>BsTauTau_tau_phi_sin</th>\n",
       "    </tr>\n",
       "  </thead>\n",
       "  <tbody>\n",
       "    <tr>\n",
       "      <th>9034</th>\n",
       "      <td>-0.637736</td>\n",
       "      <td>-0.761242</td>\n",
       "      <td>-1.214503</td>\n",
       "      <td>0.702966</td>\n",
       "    </tr>\n",
       "    <tr>\n",
       "      <th>8107</th>\n",
       "      <td>0.320524</td>\n",
       "      <td>-0.145305</td>\n",
       "      <td>1.233689</td>\n",
       "      <td>-0.738149</td>\n",
       "    </tr>\n",
       "    <tr>\n",
       "      <th>7246</th>\n",
       "      <td>-0.135462</td>\n",
       "      <td>-0.519703</td>\n",
       "      <td>1.422276</td>\n",
       "      <td>0.233292</td>\n",
       "    </tr>\n",
       "    <tr>\n",
       "      <th>3129</th>\n",
       "      <td>-0.357322</td>\n",
       "      <td>0.150626</td>\n",
       "      <td>0.017456</td>\n",
       "      <td>1.395164</td>\n",
       "    </tr>\n",
       "    <tr>\n",
       "      <th>1442</th>\n",
       "      <td>-0.911148</td>\n",
       "      <td>0.279762</td>\n",
       "      <td>1.043779</td>\n",
       "      <td>-0.979540</td>\n",
       "    </tr>\n",
       "    <tr>\n",
       "      <th>...</th>\n",
       "      <td>...</td>\n",
       "      <td>...</td>\n",
       "      <td>...</td>\n",
       "      <td>...</td>\n",
       "    </tr>\n",
       "    <tr>\n",
       "      <th>2993</th>\n",
       "      <td>1.586193</td>\n",
       "      <td>-0.927053</td>\n",
       "      <td>0.906798</td>\n",
       "      <td>-1.102123</td>\n",
       "    </tr>\n",
       "    <tr>\n",
       "      <th>3064</th>\n",
       "      <td>0.119589</td>\n",
       "      <td>-0.435468</td>\n",
       "      <td>1.175703</td>\n",
       "      <td>-0.824020</td>\n",
       "    </tr>\n",
       "    <tr>\n",
       "      <th>4949</th>\n",
       "      <td>0.873254</td>\n",
       "      <td>0.075651</td>\n",
       "      <td>1.211596</td>\n",
       "      <td>-0.772503</td>\n",
       "    </tr>\n",
       "    <tr>\n",
       "      <th>532</th>\n",
       "      <td>-0.875824</td>\n",
       "      <td>-0.726845</td>\n",
       "      <td>1.225138</td>\n",
       "      <td>0.738299</td>\n",
       "    </tr>\n",
       "    <tr>\n",
       "      <th>3054</th>\n",
       "      <td>-0.798650</td>\n",
       "      <td>-0.321035</td>\n",
       "      <td>-1.271916</td>\n",
       "      <td>0.596691</td>\n",
       "    </tr>\n",
       "  </tbody>\n",
       "</table>\n",
       "<p>3709 rows × 4 columns</p>\n",
       "</div>"
      ],
      "text/plain": [
       "      BsTauTau_tau_pt  BsTauTau_tau_eta  BsTauTau_tau_phi_cos  \\\n",
       "9034        -0.637736         -0.761242             -1.214503   \n",
       "8107         0.320524         -0.145305              1.233689   \n",
       "7246        -0.135462         -0.519703              1.422276   \n",
       "3129        -0.357322          0.150626              0.017456   \n",
       "1442        -0.911148          0.279762              1.043779   \n",
       "...               ...               ...                   ...   \n",
       "2993         1.586193         -0.927053              0.906798   \n",
       "3064         0.119589         -0.435468              1.175703   \n",
       "4949         0.873254          0.075651              1.211596   \n",
       "532         -0.875824         -0.726845              1.225138   \n",
       "3054        -0.798650         -0.321035             -1.271916   \n",
       "\n",
       "      BsTauTau_tau_phi_sin  \n",
       "9034              0.702966  \n",
       "8107             -0.738149  \n",
       "7246              0.233292  \n",
       "3129              1.395164  \n",
       "1442             -0.979540  \n",
       "...                    ...  \n",
       "2993             -1.102123  \n",
       "3064             -0.824020  \n",
       "4949             -0.772503  \n",
       "532               0.738299  \n",
       "3054              0.596691  \n",
       "\n",
       "[3709 rows x 4 columns]"
      ]
     },
     "execution_count": 126,
     "metadata": {},
     "output_type": "execute_result"
    }
   ],
   "source": [
    "y_test"
   ]
  },
  {
   "cell_type": "code",
   "execution_count": 127,
   "metadata": {},
   "outputs": [
    {
     "name": "stdout",
     "output_type": "stream",
     "text": [
      "scaled: \n",
      "0.03328543214189701 0.9658413305428308 0.9658513726233485 0.0927501963733817\n",
      "descaled:\n"
     ]
    }
   ],
   "source": [
    "print(\"scaled: \")\n",
    "print(mean_squared_error(y_test, preds), r2_score(y_test, preds, multioutput = \"uniform_average\") , explained_variance_score(y_test, preds),  mean_absolute_error(y_test, preds))\n",
    "print(\"descaled:\" )\n",
    "#relevant_labels = full_labels.loc[:,[\"BsTauTau_tau_pt\", \"BsTauTau_tau_eta\", \"BsTauTau_tau_phi_sin\",\"BsTauTau_tau_phi_cos\"]]\n",
    "#print(relevant_labels)\n",
    "#print(mean_squared_error(relevant_labels.iloc[index_test], preds_df),  r2_score(relevant_labels.iloc[index_test], preds_df, multioutput = \"uniform_average\"), explained_variance_score(full_labels.iloc[index_test,:3], preds_df),  mean_absolute_error(full_labels.iloc[index_test,:3], preds_df))"
   ]
  },
  {
   "cell_type": "code",
   "execution_count": 128,
   "metadata": {},
   "outputs": [
    {
     "data": {
      "text/html": [
       "<div>\n",
       "<style scoped>\n",
       "    .dataframe tbody tr th:only-of-type {\n",
       "        vertical-align: middle;\n",
       "    }\n",
       "\n",
       "    .dataframe tbody tr th {\n",
       "        vertical-align: top;\n",
       "    }\n",
       "\n",
       "    .dataframe thead th {\n",
       "        text-align: right;\n",
       "    }\n",
       "</style>\n",
       "<table border=\"1\" class=\"dataframe\">\n",
       "  <thead>\n",
       "    <tr style=\"text-align: right;\">\n",
       "      <th></th>\n",
       "      <th>BsTauTau_tau_pt</th>\n",
       "      <th>BsTauTau_tau_eta</th>\n",
       "      <th>BsTauTau_tau_phi_cos</th>\n",
       "      <th>BsTauTau_tau_phi_sin</th>\n",
       "    </tr>\n",
       "  </thead>\n",
       "  <tbody>\n",
       "    <tr>\n",
       "      <th>0</th>\n",
       "      <td>13.488393</td>\n",
       "      <td>1.012079</td>\n",
       "      <td>-0.873939</td>\n",
       "      <td>-0.486035</td>\n",
       "    </tr>\n",
       "    <tr>\n",
       "      <th>1</th>\n",
       "      <td>3.966762</td>\n",
       "      <td>-0.313225</td>\n",
       "      <td>0.040849</td>\n",
       "      <td>0.999165</td>\n",
       "    </tr>\n",
       "    <tr>\n",
       "      <th>2</th>\n",
       "      <td>9.540873</td>\n",
       "      <td>-0.460293</td>\n",
       "      <td>0.468727</td>\n",
       "      <td>-0.883343</td>\n",
       "    </tr>\n",
       "    <tr>\n",
       "      <th>3</th>\n",
       "      <td>5.323897</td>\n",
       "      <td>-1.147056</td>\n",
       "      <td>0.797000</td>\n",
       "      <td>-0.603979</td>\n",
       "    </tr>\n",
       "    <tr>\n",
       "      <th>4</th>\n",
       "      <td>12.743830</td>\n",
       "      <td>-0.477580</td>\n",
       "      <td>-0.279158</td>\n",
       "      <td>-0.960245</td>\n",
       "    </tr>\n",
       "    <tr>\n",
       "      <th>...</th>\n",
       "      <td>...</td>\n",
       "      <td>...</td>\n",
       "      <td>...</td>\n",
       "      <td>...</td>\n",
       "    </tr>\n",
       "    <tr>\n",
       "      <th>12247</th>\n",
       "      <td>29.144579</td>\n",
       "      <td>0.987034</td>\n",
       "      <td>0.045430</td>\n",
       "      <td>-0.998968</td>\n",
       "    </tr>\n",
       "    <tr>\n",
       "      <th>12248</th>\n",
       "      <td>4.871899</td>\n",
       "      <td>0.900070</td>\n",
       "      <td>-0.026986</td>\n",
       "      <td>0.999636</td>\n",
       "    </tr>\n",
       "    <tr>\n",
       "      <th>12834</th>\n",
       "      <td>6.664987</td>\n",
       "      <td>-0.877306</td>\n",
       "      <td>0.597821</td>\n",
       "      <td>0.801630</td>\n",
       "    </tr>\n",
       "    <tr>\n",
       "      <th>12835</th>\n",
       "      <td>12.768838</td>\n",
       "      <td>-0.699172</td>\n",
       "      <td>0.462417</td>\n",
       "      <td>-0.886663</td>\n",
       "    </tr>\n",
       "    <tr>\n",
       "      <th>12836</th>\n",
       "      <td>6.169574</td>\n",
       "      <td>-0.625941</td>\n",
       "      <td>0.749877</td>\n",
       "      <td>-0.661577</td>\n",
       "    </tr>\n",
       "  </tbody>\n",
       "</table>\n",
       "<p>7417 rows × 4 columns</p>\n",
       "</div>"
      ],
      "text/plain": [
       "       BsTauTau_tau_pt  BsTauTau_tau_eta  BsTauTau_tau_phi_cos  \\\n",
       "0            13.488393          1.012079             -0.873939   \n",
       "1             3.966762         -0.313225              0.040849   \n",
       "2             9.540873         -0.460293              0.468727   \n",
       "3             5.323897         -1.147056              0.797000   \n",
       "4            12.743830         -0.477580             -0.279158   \n",
       "...                ...               ...                   ...   \n",
       "12247        29.144579          0.987034              0.045430   \n",
       "12248         4.871899          0.900070             -0.026986   \n",
       "12834         6.664987         -0.877306              0.597821   \n",
       "12835        12.768838         -0.699172              0.462417   \n",
       "12836         6.169574         -0.625941              0.749877   \n",
       "\n",
       "       BsTauTau_tau_phi_sin  \n",
       "0                 -0.486035  \n",
       "1                  0.999165  \n",
       "2                 -0.883343  \n",
       "3                 -0.603979  \n",
       "4                 -0.960245  \n",
       "...                     ...  \n",
       "12247             -0.998968  \n",
       "12248              0.999636  \n",
       "12834              0.801630  \n",
       "12835             -0.886663  \n",
       "12836             -0.661577  \n",
       "\n",
       "[7417 rows x 4 columns]"
      ]
     },
     "execution_count": 128,
     "metadata": {},
     "output_type": "execute_result"
    }
   ],
   "source": [
    "target_labels_small"
   ]
  },
  {
   "cell_type": "code",
   "execution_count": 130,
   "metadata": {},
   "outputs": [
    {
     "data": {
      "image/png": "[encoded data removed]",
      "text/plain": [
       "<Figure size 1008x216 with 3 Axes>"
      ]
     },
     "metadata": {
      "needs_background": "light"
     },
     "output_type": "display_data"
    }
   ],
   "source": [
    "fig, (ax1, ax2,ax3) = plt.subplots(1, 3)\n",
    "plt.rcParams['figure.figsize'] = [14, 3]\n",
    "plt.rcParams['figure.figsize'] = [14, 3]\n",
    "ax1.hist(preds_df.iloc[:,0], density= True, alpha = 0.4, label=\"pred_pt\")\n",
    "ax1.hist(target_labels_small.iloc[index_test,0], density= True, alpha = 0.4, label=\"pt\");\n",
    "ax1.legend();\n",
    "\n",
    "ax2.hist(preds_df.iloc[:,1], density= True, alpha = 0.4, label=\"pred_eta\")\n",
    "ax2.hist(target_labels_small.iloc[index_test,1], density= True, alpha = 0.4, label=\"eta\");\n",
    "ax2.legend();\n",
    "\n",
    "#ax3.hist(preds_df.iloc[:,2], density= True, alpha = 0.4, label=\"pred_phi\")\n",
    "ax3.hist(new_phi, density= True, alpha = 0.4, label=\"pred_phi\")\n",
    "#ax3.hist(full_labels.iloc[index_test,], density= True, alpha = 0.4, label=\"phi\");\n",
    "ax3.hist(oldphi[indic][index_test], density= True, alpha = 0.4, label=\"phi\");\n",
    "ax3.legend();"
   ]
  },
  {
   "cell_type": "code",
   "execution_count": 40,
   "metadata": {},
   "outputs": [],
   "source": [
    "#model.save_model(\"eta_phi_scaled.cbm\")"
   ]
  },
  {
   "cell_type": "code",
   "execution_count": 131,
   "metadata": {},
   "outputs": [
    {
     "data": {
      "text/plain": [
       "(9034     6.458492\n",
       " 8107    16.647705\n",
       " 7246    11.799185\n",
       " 3129     9.440141\n",
       " 1442     3.551286\n",
       "           ...    \n",
       " 2993    30.105610\n",
       " 3064    14.511154\n",
       " 4949    22.524906\n",
       " 532      3.926894\n",
       " 3054     4.747483\n",
       " Name: BsTauTau_tau_pt, Length: 3709, dtype: float64,\n",
       "         pred_pt  pred_eta  pred_phi_sin  pred_phi_cos\n",
       " 0      6.954408 -0.497877     -0.826092      0.556333\n",
       " 1     12.327037 -0.134877      0.885632     -0.464742\n",
       " 2     12.484944 -0.371351      0.975390      0.202745\n",
       " 3     10.379906  0.134201     -0.022723      0.996181\n",
       " 4      5.614604  0.284283      0.711761     -0.712624\n",
       " ...         ...       ...           ...           ...\n",
       " 3704  34.622575 -0.688970      0.619661     -0.760611\n",
       " 3705  10.670506 -0.347666      0.827549     -0.564952\n",
       " 3706  20.539210  0.142186      0.800827     -0.624060\n",
       " 3707   5.336510 -0.467553      0.841157      0.522517\n",
       " 3708   6.568199 -0.363475     -0.783746      0.581996\n",
       " \n",
       " [3709 rows x 4 columns])"
      ]
     },
     "execution_count": 131,
     "metadata": {},
     "output_type": "execute_result"
    }
   ],
   "source": [
    "target_labels_small.iloc[index_test,0], preds_df"
   ]
  },
  {
   "cell_type": "markdown",
   "metadata": {},
   "source": [
    "# 2D scatter plots"
   ]
  },
  {
   "cell_type": "code",
   "execution_count": 134,
   "metadata": {},
   "outputs": [
    {
     "data": {
      "image/png": "[encoded data removed]",
      "text/plain": [
       "<Figure size 1152x216 with 3 Axes>"
      ]
     },
     "metadata": {
      "needs_background": "light"
     },
     "output_type": "display_data"
    }
   ],
   "source": [
    "plt.rcParams['figure.figsize'] = [16, 3]\n",
    "fig, (ax0,ax1,ax2) = plt.subplots(1,3)\n",
    "ax0.scatter(target_labels_small.iloc[index_test,0], preds_df.iloc[:,0], s = 2); ax0.set_xlabel(\"Target pt [GeV]\") ; ax0.set_ylabel(\"Regressed pt [GeV]\");\n",
    "ax0.grid(); ax1.grid(); ax2.grid();\n",
    "ax0.plot([0,120],[0,120])\n",
    "ax1.scatter(target_labels_small.iloc[index_test,1], preds_df.iloc[:,1], s = 2);\n",
    "ax1.set_title(\"Test Set\");  ax1.set_xlabel(r'Target $\\eta$') ; ax1.set_ylabel(\"Regressed $\\eta$\");\n",
    "#ax2.scatter(full_labels.iloc[index_test,2], preds_df.iloc[:,2], s = 2); ax2.set_xlabel(\"Target phi\") ; ax2.set_ylabel(\"Regressed phi\");\n",
    "ax2.scatter(oldphi[indic][index_test], new_phi, s = 2); ax2.set_xlabel(\"Target $\\phi$\") ; ax2.set_ylabel(\"Regressed $\\phi$\")\n",
    "plt.savefig(\"2D-ScatterPlot.png\")"
   ]
  },
  {
   "cell_type": "code",
   "execution_count": 135,
   "metadata": {},
   "outputs": [
    {
     "data": {
      "text/plain": [
       "3709"
      ]
     },
     "execution_count": 135,
     "metadata": {},
     "output_type": "execute_result"
    }
   ],
   "source": [
    "len(preds)"
   ]
  },
  {
   "cell_type": "markdown",
   "metadata": {},
   "source": [
    "# Profile plots"
   ]
  },
  {
   "cell_type": "code",
   "execution_count": 136,
   "metadata": {},
   "outputs": [
    {
     "data": {
      "text/plain": [
       "array([[ 6.95440781, -0.49787733,  2.54890763],\n",
       "       [12.32703673, -0.13487672, -0.48325696],\n",
       "       [12.48494402, -0.37135099,  0.20494245],\n",
       "       ...,\n",
       "       [20.53920981,  0.14218561, -0.66197227],\n",
       "       [ 5.33650989, -0.46755307,  0.5558535 ],\n",
       "       [ 6.56819938, -0.3634752 ,  2.50285566]])"
      ]
     },
     "execution_count": 136,
     "metadata": {},
     "output_type": "execute_result"
    }
   ],
   "source": [
    "np.hstack([preds_descaled[:,:2], new_phi.reshape(-1,1)])"
   ]
  },
  {
   "cell_type": "code",
   "execution_count": 137,
   "metadata": {},
   "outputs": [
    {
     "data": {
      "text/plain": [
       "Index(['BsTauTau_tau_pt', 'BsTauTau_tau_eta', 'BsTauTau_tau_phi'], dtype='object')"
      ]
     },
     "execution_count": 137,
     "metadata": {},
     "output_type": "execute_result"
    }
   ],
   "source": [
    "full_labels.columns"
   ]
  },
  {
   "cell_type": "code",
   "execution_count": 138,
   "metadata": {},
   "outputs": [
    {
     "name": "stdout",
     "output_type": "stream",
     "text": [
      "[ 2.54890763 -0.48325696  0.20494245 ... -0.66197227  0.5558535\n",
      "  2.50285566]\n"
     ]
    },
    {
     "data": {
      "image/png": "[encoded data removed]",
      "text/plain": [
       "<Figure size 432x144 with 3 Axes>"
      ]
     },
     "metadata": {
      "needs_background": "light"
     },
     "output_type": "display_data"
    },
    {
     "data": {
      "image/png": "[encoded data removed]",
      "text/plain": [
       "<Figure size 432x144 with 3 Axes>"
      ]
     },
     "metadata": {
      "needs_background": "light"
     },
     "output_type": "display_data"
    }
   ],
   "source": [
    "# predict only test for now \n",
    "#scaled_data = scaler_features.transform(data_small) # SWITCH\n",
    "preds = model.predict(X_test)# scaled_data)\n",
    "#descale\n",
    "preds_descaled = scaler_targets.inverse_transform(preds)\n",
    "new_phi = np.arctan2(preds_descaled[:,3],preds_descaled[:,2])\n",
    "print(new_phi)\n",
    "preds_df = pd.DataFrame(columns=[\"pred_pt\",\"pred_eta\",\"pred_phi\"], data = np.hstack([preds_descaled[:,:2], new_phi.reshape(-1,1)]))\n",
    "#preds_df\n",
    "preds_df.hist(bins = 50, layout = (1,3), figsize = (6,2) );\n",
    "full_labels2.loc[:,[\"BsTauTau_tau_pt\",\"BsTauTau_tau_eta\",\"BsTauTau_tau_phi\"]].hist(bins = 50, layout = (1,3), figsize = (6,2) );"
   ]
  },
  {
   "cell_type": "code",
   "execution_count": 140,
   "metadata": {},
   "outputs": [
    {
     "data": {
      "image/png": "[encoded data removed]",
      "text/plain": [
       "<Figure size 1008x216 with 3 Axes>"
      ]
     },
     "metadata": {
      "needs_background": "light"
     },
     "output_type": "display_data"
    }
   ],
   "source": [
    "plt.rcParams['figure.figsize'] = [14, 3]\n",
    "fig, (ax0,ax1,ax2) = plt.subplots(1,3)\n",
    "ax0.scatter(target_labels_small.iloc[index_test,0], preds_df.iloc[:,0], s = 2); ax0.set_xlabel(\"Target pt [GeV]\") ; ax0.set_ylabel(\"Regressed pt [GeV]\");\n",
    "ax0.grid(); ax1.grid(); ax2.grid();\n",
    "ax1.scatter(target_labels_small.iloc[index_test,1], preds_df.iloc[:,1], s = 2);\n",
    "ax1.set_title(\"Test Set\");  ax1.set_xlabel(r'Target $\\eta$') ; ax1.set_ylabel(\"Regressed $\\eta$\");\n",
    "#ax2.scatter(full_labels.iloc[index_test,2], preds_df.iloc[:,2], s = 2); ax2.set_xlabel(\"Target phi\") ; ax2.set_ylabel(\"Regressed phi\");\n",
    "ax2.scatter(oldphi[indic][index_test], new_phi, s = 2); ax2.set_xlabel(\"Target $\\phi$\") ; ax2.set_ylabel(\"Regressed $\\phi$\")\n",
    "plt.savefig(\"2D-ScatterPlot.png\")"
   ]
  },
  {
   "cell_type": "code",
   "execution_count": 141,
   "metadata": {},
   "outputs": [],
   "source": [
    "targets = pd.DataFrame(data = np.hstack([target_labels_small.iloc[index_test,:2].values, oldphi[indic][index_test].reshape(-1,1)]), columns = ['BsTauTau_tau_pt', 'BsTauTau_tau_eta', 'BsTauTau_tau_phi'])\n",
    "preds = preds_df.iloc[:,:3]\n",
    "residuals = targets - preds.values#[indic]\n",
    "residuals.columns = ['BsTauTau_tau_pt_res', 'BsTauTau_tau_eta_res', 'BsTauTau_tau_phi_res']\n",
    "residuals_df = pd.concat((residuals.reset_index(), targets.reset_index()), axis=1)\n",
    "residuals2 = pd.eval(\"abs(residuals)\")\n",
    "residuals2.columns = ['BsTauTau_tau_pt_res_abs', 'BsTauTau_tau_eta_res_abs', 'BsTauTau_tau_phi_res_abs']\n",
    "residuals2_df = pd.concat((residuals2.reset_index(), targets.reset_index()), axis=1)"
   ]
  },
  {
   "cell_type": "code",
   "execution_count": 142,
   "metadata": {},
   "outputs": [],
   "source": [
    "residuals['BsTauTau_tau_pt'] = targets['BsTauTau_tau_pt']\n",
    "residuals['BsTauTau_tau_eta'] = targets['BsTauTau_tau_eta']\n",
    "residuals['BsTauTau_tau_phi'] = targets['BsTauTau_tau_phi']\n",
    "\n",
    "residuals2['BsTauTau_tau_pt'] = targets['BsTauTau_tau_pt']\n",
    "residuals2['BsTauTau_tau_eta'] = targets['BsTauTau_tau_eta']\n",
    "residuals2['BsTauTau_tau_phi'] = targets['BsTauTau_tau_phi']"
   ]
  },
  {
   "cell_type": "code",
   "execution_count": 143,
   "metadata": {},
   "outputs": [
    {
     "data": {
      "image/png": "[encoded data removed]",
      "text/plain": [
       "<Figure size 1152x144 with 3 Axes>"
      ]
     },
     "metadata": {
      "needs_background": "light"
     },
     "output_type": "display_data"
    },
    {
     "data": {
      "image/png": "[encoded data removed]",
      "text/plain": [
       "<Figure size 1152x144 with 3 Axes>"
      ]
     },
     "metadata": {
      "needs_background": "light"
     },
     "output_type": "display_data"
    },
    {
     "data": {
      "image/png": "[encoded data removed]",
      "text/plain": [
       "<Figure size 1152x144 with 3 Axes>"
      ]
     },
     "metadata": {
      "needs_background": "light"
     },
     "output_type": "display_data"
    }
   ],
   "source": [
    "def profile_plot(df, feature, feature_res, lim, nbins = 100):\n",
    "    plt.rcParams['figure.figsize'] = [16, 2]\n",
    "    fig, (ax0,ax1,ax2) = plt.subplots(1,3)\n",
    "    histogram = ax0.hist(df[feature], bins = nbins, log = True)\n",
    "    ax0.set_title(feature)\n",
    "    histogram_edges = histogram[1]\n",
    "    means, res_vals = [],[]\n",
    "    for idx, edge in enumerate(histogram_edges[:-1]):\n",
    "        mask = (df[feature].values > edge) & (df[feature].values <= histogram_edges[idx+1])\n",
    "        true_mean = df[feature][mask].mean()\n",
    "        #true_mean = (edge + histogram_edges[idx+1])/2.\n",
    "        res_val = df[feature_res][mask].mean()\n",
    "        means.append(true_mean)\n",
    "        res_vals.append(res_val)\n",
    "    means = np.asarray(means)\n",
    "    res_vals = (np.asarray(res_vals))\n",
    "    ax1.plot(means,res_vals, '.', markersize = 5)\n",
    "    ax1.set_title(\"residuals vs true values - hist bin means\")\n",
    "    ax1.set_xlabel(feature);ax1.set_ylabel(feature_res);\n",
    "    ax2.plot(df[feature], df[feature_res], '.', markersize = 3)\n",
    "    ax2.set_title(\"residuals vs true values\")\n",
    "    ax2.set_xlabel(feature); ax2.set_ylabel(feature_res);\n",
    "    ax0.grid(); ax1.grid(); ax2.grid();\n",
    "    ax1.set_ylim(-lim,lim)\n",
    "    ax2.set_ylim(-lim,lim)\n",
    "    return\n",
    " \n",
    "profile_plot(residuals, \"BsTauTau_tau_pt\", \"BsTauTau_tau_pt_res\", 30)\n",
    "plt.savefig(\"profile1.png\")\n",
    "profile_plot(residuals, \"BsTauTau_tau_eta\", \"BsTauTau_tau_eta_res\", 0.4)\n",
    "plt.savefig(\"profile2.png\")\n",
    "profile_plot(residuals, \"BsTauTau_tau_phi\", \"BsTauTau_tau_phi_res\", 3)\n",
    "plt.savefig(\"profile3.png\")"
   ]
  },
  {
   "cell_type": "code",
   "execution_count": 153,
   "metadata": {},
   "outputs": [],
   "source": [
    "#data, full_labels, preds"
   ]
  },
  {
   "cell_type": "code",
   "execution_count": 145,
   "metadata": {},
   "outputs": [],
   "source": [
    "#othertaus = pd.read_csv(\"other_taus.csv\")\n",
    "#othertaus.columns = [\"index\", \"genParticle_pt\", \"genParticle_eta\", \"genParticle_phi\"]"
   ]
  },
  {
   "cell_type": "code",
   "execution_count": 154,
   "metadata": {},
   "outputs": [],
   "source": [
    "othertaus = gendata[gendata.muondecay == True]\n",
    "othertaus = othertaus.iloc[indic,:].iloc[index_test,:]"
   ]
  },
  {
   "cell_type": "code",
   "execution_count": 155,
   "metadata": {},
   "outputs": [
    {
     "data": {
      "text/plain": [
       "18069    13.510272\n",
       "16215    18.946233\n",
       "14493    26.591403\n",
       "6259     12.568230\n",
       "2885     25.568080\n",
       "           ...    \n",
       "5987     23.974004\n",
       "6129     16.064976\n",
       "9899     16.392524\n",
       "1065     20.080449\n",
       "6109     14.891087\n",
       "Name: energy, Length: 3709, dtype: float64"
      ]
     },
     "execution_count": 155,
     "metadata": {},
     "output_type": "execute_result"
    }
   ],
   "source": [
    "energy = lambda m, p: (m**2 + p**2) ** 0.5\n",
    "p_abs = lambda pt, eta: pt * np.cosh(eta)\n",
    "m_tau = 1.77686 # GeV\n",
    "othertaus[\"energy\"] = energy(m_tau, p_abs(othertaus.genParticle_pt, othertaus.genParticle_eta))\n",
    "othertaus.energy"
   ]
  },
  {
   "cell_type": "code",
   "execution_count": 156,
   "metadata": {},
   "outputs": [],
   "source": [
    "taus = gendata[gendata.muondecay == False]\n",
    "taus =  taus.iloc[indic,:].iloc[index_test,:]"
   ]
  },
  {
   "cell_type": "code",
   "execution_count": 157,
   "metadata": {},
   "outputs": [
    {
     "data": {
      "text/html": [
       "<div>\n",
       "<style scoped>\n",
       "    .dataframe tbody tr th:only-of-type {\n",
       "        vertical-align: middle;\n",
       "    }\n",
       "\n",
       "    .dataframe tbody tr th {\n",
       "        vertical-align: top;\n",
       "    }\n",
       "\n",
       "    .dataframe thead th {\n",
       "        text-align: right;\n",
       "    }\n",
       "</style>\n",
       "<table border=\"1\" class=\"dataframe\">\n",
       "  <thead>\n",
       "    <tr style=\"text-align: right;\">\n",
       "      <th></th>\n",
       "      <th>pred_pt</th>\n",
       "      <th>pred_eta</th>\n",
       "      <th>pred_phi</th>\n",
       "    </tr>\n",
       "  </thead>\n",
       "  <tbody>\n",
       "    <tr>\n",
       "      <th>0</th>\n",
       "      <td>6.954408</td>\n",
       "      <td>-0.497877</td>\n",
       "      <td>2.548908</td>\n",
       "    </tr>\n",
       "    <tr>\n",
       "      <th>1</th>\n",
       "      <td>12.327037</td>\n",
       "      <td>-0.134877</td>\n",
       "      <td>-0.483257</td>\n",
       "    </tr>\n",
       "    <tr>\n",
       "      <th>2</th>\n",
       "      <td>12.484944</td>\n",
       "      <td>-0.371351</td>\n",
       "      <td>0.204942</td>\n",
       "    </tr>\n",
       "    <tr>\n",
       "      <th>3</th>\n",
       "      <td>10.379906</td>\n",
       "      <td>0.134201</td>\n",
       "      <td>1.593602</td>\n",
       "    </tr>\n",
       "    <tr>\n",
       "      <th>4</th>\n",
       "      <td>5.614604</td>\n",
       "      <td>0.284283</td>\n",
       "      <td>-0.786004</td>\n",
       "    </tr>\n",
       "    <tr>\n",
       "      <th>...</th>\n",
       "      <td>...</td>\n",
       "      <td>...</td>\n",
       "      <td>...</td>\n",
       "    </tr>\n",
       "    <tr>\n",
       "      <th>3704</th>\n",
       "      <td>34.622575</td>\n",
       "      <td>-0.688970</td>\n",
       "      <td>-0.887163</td>\n",
       "    </tr>\n",
       "    <tr>\n",
       "      <th>3705</th>\n",
       "      <td>10.670506</td>\n",
       "      <td>-0.347666</td>\n",
       "      <td>-0.599008</td>\n",
       "    </tr>\n",
       "    <tr>\n",
       "      <th>3706</th>\n",
       "      <td>20.539210</td>\n",
       "      <td>0.142186</td>\n",
       "      <td>-0.661972</td>\n",
       "    </tr>\n",
       "    <tr>\n",
       "      <th>3707</th>\n",
       "      <td>5.336510</td>\n",
       "      <td>-0.467553</td>\n",
       "      <td>0.555853</td>\n",
       "    </tr>\n",
       "    <tr>\n",
       "      <th>3708</th>\n",
       "      <td>6.568199</td>\n",
       "      <td>-0.363475</td>\n",
       "      <td>2.502856</td>\n",
       "    </tr>\n",
       "  </tbody>\n",
       "</table>\n",
       "<p>3709 rows × 3 columns</p>\n",
       "</div>"
      ],
      "text/plain": [
       "        pred_pt  pred_eta  pred_phi\n",
       "0      6.954408 -0.497877  2.548908\n",
       "1     12.327037 -0.134877 -0.483257\n",
       "2     12.484944 -0.371351  0.204942\n",
       "3     10.379906  0.134201  1.593602\n",
       "4      5.614604  0.284283 -0.786004\n",
       "...         ...       ...       ...\n",
       "3704  34.622575 -0.688970 -0.887163\n",
       "3705  10.670506 -0.347666 -0.599008\n",
       "3706  20.539210  0.142186 -0.661972\n",
       "3707   5.336510 -0.467553  0.555853\n",
       "3708   6.568199 -0.363475  2.502856\n",
       "\n",
       "[3709 rows x 3 columns]"
      ]
     },
     "execution_count": 157,
     "metadata": {},
     "output_type": "execute_result"
    }
   ],
   "source": [
    "preds"
   ]
  },
  {
   "cell_type": "code",
   "execution_count": 158,
   "metadata": {},
   "outputs": [
    {
     "data": {
      "text/plain": [
       "18068     8.033270\n",
       "16214    12.565596\n",
       "14492    13.473408\n",
       "6258     10.623172\n",
       "2884      6.107212\n",
       "           ...    \n",
       "5986     43.206679\n",
       "6128     11.460492\n",
       "9898     20.823127\n",
       "1064      6.190976\n",
       "6108      7.228659\n",
       "Name: energy_with_regressed_p_eta, Length: 3709, dtype: float64"
      ]
     },
     "execution_count": 158,
     "metadata": {},
     "output_type": "execute_result"
    }
   ],
   "source": [
    "taus[\"energy_with_regressed_p_eta\"] = energy(m_tau, p_abs(preds.pred_pt, preds.pred_eta).values)\n",
    "taus.energy_with_regressed_p_eta"
   ]
  },
  {
   "cell_type": "code",
   "execution_count": 159,
   "metadata": {},
   "outputs": [
    {
     "data": {
      "text/html": [
       "<div>\n",
       "<style scoped>\n",
       "    .dataframe tbody tr th:only-of-type {\n",
       "        vertical-align: middle;\n",
       "    }\n",
       "\n",
       "    .dataframe tbody tr th {\n",
       "        vertical-align: top;\n",
       "    }\n",
       "\n",
       "    .dataframe thead th {\n",
       "        text-align: right;\n",
       "    }\n",
       "</style>\n",
       "<table border=\"1\" class=\"dataframe\">\n",
       "  <thead>\n",
       "    <tr style=\"text-align: right;\">\n",
       "      <th></th>\n",
       "      <th>pred_pt</th>\n",
       "      <th>pred_eta</th>\n",
       "      <th>pred_phi</th>\n",
       "    </tr>\n",
       "  </thead>\n",
       "  <tbody>\n",
       "    <tr>\n",
       "      <th>0</th>\n",
       "      <td>6.954408</td>\n",
       "      <td>-0.497877</td>\n",
       "      <td>2.548908</td>\n",
       "    </tr>\n",
       "    <tr>\n",
       "      <th>1</th>\n",
       "      <td>12.327037</td>\n",
       "      <td>-0.134877</td>\n",
       "      <td>-0.483257</td>\n",
       "    </tr>\n",
       "    <tr>\n",
       "      <th>2</th>\n",
       "      <td>12.484944</td>\n",
       "      <td>-0.371351</td>\n",
       "      <td>0.204942</td>\n",
       "    </tr>\n",
       "    <tr>\n",
       "      <th>3</th>\n",
       "      <td>10.379906</td>\n",
       "      <td>0.134201</td>\n",
       "      <td>1.593602</td>\n",
       "    </tr>\n",
       "    <tr>\n",
       "      <th>4</th>\n",
       "      <td>5.614604</td>\n",
       "      <td>0.284283</td>\n",
       "      <td>-0.786004</td>\n",
       "    </tr>\n",
       "    <tr>\n",
       "      <th>...</th>\n",
       "      <td>...</td>\n",
       "      <td>...</td>\n",
       "      <td>...</td>\n",
       "    </tr>\n",
       "    <tr>\n",
       "      <th>3704</th>\n",
       "      <td>34.622575</td>\n",
       "      <td>-0.688970</td>\n",
       "      <td>-0.887163</td>\n",
       "    </tr>\n",
       "    <tr>\n",
       "      <th>3705</th>\n",
       "      <td>10.670506</td>\n",
       "      <td>-0.347666</td>\n",
       "      <td>-0.599008</td>\n",
       "    </tr>\n",
       "    <tr>\n",
       "      <th>3706</th>\n",
       "      <td>20.539210</td>\n",
       "      <td>0.142186</td>\n",
       "      <td>-0.661972</td>\n",
       "    </tr>\n",
       "    <tr>\n",
       "      <th>3707</th>\n",
       "      <td>5.336510</td>\n",
       "      <td>-0.467553</td>\n",
       "      <td>0.555853</td>\n",
       "    </tr>\n",
       "    <tr>\n",
       "      <th>3708</th>\n",
       "      <td>6.568199</td>\n",
       "      <td>-0.363475</td>\n",
       "      <td>2.502856</td>\n",
       "    </tr>\n",
       "  </tbody>\n",
       "</table>\n",
       "<p>3709 rows × 3 columns</p>\n",
       "</div>"
      ],
      "text/plain": [
       "        pred_pt  pred_eta  pred_phi\n",
       "0      6.954408 -0.497877  2.548908\n",
       "1     12.327037 -0.134877 -0.483257\n",
       "2     12.484944 -0.371351  0.204942\n",
       "3     10.379906  0.134201  1.593602\n",
       "4      5.614604  0.284283 -0.786004\n",
       "...         ...       ...       ...\n",
       "3704  34.622575 -0.688970 -0.887163\n",
       "3705  10.670506 -0.347666 -0.599008\n",
       "3706  20.539210  0.142186 -0.661972\n",
       "3707   5.336510 -0.467553  0.555853\n",
       "3708   6.568199 -0.363475  2.502856\n",
       "\n",
       "[3709 rows x 3 columns]"
      ]
     },
     "execution_count": 159,
     "metadata": {},
     "output_type": "execute_result"
    }
   ],
   "source": [
    "preds"
   ]
  },
  {
   "cell_type": "code",
   "execution_count": 160,
   "metadata": {},
   "outputs": [],
   "source": [
    "preds\n",
    "\n",
    "preds.insert(3, \"pred_tau_px\", pd.eval(\"preds.pred_pt * cos(preds.pred_phi) \"))\n",
    "preds.insert(4, \"pred_tau_py\", pd.eval(\"preds.pred_pt * sin(preds.pred_phi) \"))\n",
    "preds.insert(5, \"pred_tau_pz\", pd.eval(\"preds.pred_pt * sinh(preds.pred_eta) \"))"
   ]
  },
  {
   "cell_type": "code",
   "execution_count": 161,
   "metadata": {},
   "outputs": [],
   "source": [
    "othertaus\n",
    "\n",
    "othertaus.insert(3, \"tau_px\", pd.eval(\"othertaus.genParticle_pt * cos(othertaus.genParticle_phi) \"))\n",
    "othertaus.insert(4, \"tau_py\", pd.eval(\"othertaus.genParticle_pt * sin(othertaus.genParticle_phi) \"))\n",
    "othertaus.insert(5, \"tau_pz\", pd.eval(\"othertaus.genParticle_pt * sinh(othertaus.genParticle_eta) \"))"
   ]
  },
  {
   "cell_type": "code",
   "execution_count": 162,
   "metadata": {},
   "outputs": [],
   "source": [
    "vector_prod_p1_p2 = lambda p1x,p1y,p1z,p2x,p2y,p2z: p1x.values * p2x.values + p1y.values * p2y.values + p1z.values * p2z.values"
   ]
  },
  {
   "cell_type": "code",
   "execution_count": 163,
   "metadata": {},
   "outputs": [],
   "source": [
    "ppp = vector_prod_p1_p2(preds.pred_tau_px, preds.pred_tau_py, preds.pred_tau_pz, othertaus.tau_px, othertaus.tau_py, othertaus.tau_pz )"
   ]
  },
  {
   "cell_type": "code",
   "execution_count": 164,
   "metadata": {},
   "outputs": [],
   "source": [
    "inv_mass = (2 * m_tau**2 + 2 * (othertaus.energy.values * taus.energy_with_regressed_p_eta.values - ppp)) ** 0.5"
   ]
  },
  {
   "cell_type": "code",
   "execution_count": 165,
   "metadata": {},
   "outputs": [
    {
     "data": {
      "text/plain": [
       "array([5.99849158, 5.27973899, 5.89652295, ..., 4.15343777, 5.30657033,\n",
       "       4.35805593])"
      ]
     },
     "execution_count": 165,
     "metadata": {},
     "output_type": "execute_result"
    }
   ],
   "source": [
    "inv_mass"
   ]
  },
  {
   "cell_type": "code",
   "execution_count": 181,
   "metadata": {},
   "outputs": [
    {
     "data": {
      "text/plain": [
       "Text(0.5, 1.0, 'Bs mass')"
      ]
     },
     "execution_count": 181,
     "metadata": {},
     "output_type": "execute_result"
    },
    {
     "data": {
      "image/png": "[encoded data removed]",
      "text/plain": [
       "<Figure size 576x144 with 1 Axes>"
      ]
     },
     "metadata": {
      "needs_background": "light"
     },
     "output_type": "display_data"
    }
   ],
   "source": [
    "plt.rcParams['figure.figsize'] = [8, 2]\n",
    "plt.hist(inv_mass[inv_mass < 10], log = False, bins= 100)\n",
    "plt.xlabel(\"invariant mass [GeV]\")\n",
    "plt.ylabel(\"counts\");\n",
    "plt.title(\"Bs mass\")\n",
    "#plt.xlim(3,15)"
   ]
  },
  {
   "cell_type": "code",
   "execution_count": 183,
   "metadata": {},
   "outputs": [
    {
     "data": {
      "image/png": "[encoded data removed]",
      "text/plain": [
       "<Figure size 576x144 with 1 Axes>"
      ]
     },
     "metadata": {
      "needs_background": "light"
     },
     "output_type": "display_data"
    }
   ],
   "source": [
    "plt.rcParams['figure.figsize'] = [8, 2]\n",
    "hist = plt.hist(inv_mass[inv_mass < 10 ], log = True, bins= 120)"
   ]
  },
  {
   "cell_type": "code",
   "execution_count": 184,
   "metadata": {},
   "outputs": [
    {
     "data": {
      "text/plain": [
       "5.328125814064752"
      ]
     },
     "execution_count": 184,
     "metadata": {},
     "output_type": "execute_result"
    }
   ],
   "source": [
    "a = hist[0]; b = hist[1]\n",
    "means = (b[:-1] + b[1:])/2\n",
    "mean = sum(a*means)/len(inv_mass)\n",
    "mean"
   ]
  },
  {
   "cell_type": "code",
   "execution_count": 185,
   "metadata": {},
   "outputs": [
    {
     "data": {
      "text/plain": [
       "0.3583139012812315"
      ]
     },
     "execution_count": 185,
     "metadata": {},
     "output_type": "execute_result"
    }
   ],
   "source": [
    "sigma = (sum((means - mean)**2)/len(inv_mass))**0.5\n",
    "sigma"
   ]
  },
  {
   "cell_type": "code",
   "execution_count": 186,
   "metadata": {},
   "outputs": [
    {
     "data": {
      "text/plain": [
       "0.9141003566560524"
      ]
     },
     "execution_count": 186,
     "metadata": {},
     "output_type": "execute_result"
    }
   ],
   "source": [
    "np.std(inv_mass)"
   ]
  },
  {
   "cell_type": "code",
   "execution_count": 187,
   "metadata": {},
   "outputs": [
    {
     "data": {
      "text/plain": [
       "5.368571819859096"
      ]
     },
     "execution_count": 187,
     "metadata": {},
     "output_type": "execute_result"
    }
   ],
   "source": [
    "np.mean(inv_mass)"
   ]
  },
  {
   "cell_type": "code",
   "execution_count": null,
   "metadata": {},
   "outputs": [],
   "source": []
  },
  {
   "cell_type": "code",
   "execution_count": null,
   "metadata": {},
   "outputs": [],
   "source": []
  }
 ],
 "metadata": {
  "kernelspec": {
   "display_name": "Python 3",
   "language": "python",
   "name": "python3"
  },
  "language_info": {
   "codemirror_mode": {
    "name": "ipython",
    "version": 3
   },
   "file_extension": ".py",
   "mimetype": "text/x-python",
   "name": "python",
   "nbconvert_exporter": "python",
   "pygments_lexer": "ipython3",
   "version": "3.7.1"
  }
 },
 "nbformat": 4,
 "nbformat_minor": 2
}
